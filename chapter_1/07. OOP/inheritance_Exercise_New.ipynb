{
 "cells": [
  {
   "cell_type": "code",
   "execution_count": 5,
   "metadata": {},
   "outputs": [],
   "source": [
    "class Clothing:\n",
    "  #TODO: Create a class called clothing that has following attributes and methods\n",
    "    # attributes: color, size, style, price\n",
    "    # methods: change_price, calculate_discount & calculate shipping\n",
    "\n",
    "    def __init__(self, color, size, style, price):\n",
    "        self.color = color\n",
    "        self.size = size\n",
    "        self.style = style\n",
    "        self.price = price\n",
    "        return None # (self.color, self.size, self.style, self.price)\n",
    "\n",
    "    def change_price(self, price):\n",
    "        self.price = price\n",
    "        \n",
    "    # calculate discount by multiplying self price and (1 - discount)\n",
    "    # return the discount value\n",
    "\n",
    "    def calculate_discount(self, discount):\n",
    "        self.discount = discount\n",
    "        newDiscount = self.price * (1 - self.discount)\n",
    "        return newDiscount\n",
    "\n",
    "    # shipping price = weight * rate\n",
    "    # return the shipping value \n",
    "\n",
    "    def calculate_shipping(self, weight, rate):\n",
    "\n",
    "        self.weight = weight \n",
    "        self.rate = rate\n",
    "        self.shipping = self.weight * self.rate\n",
    "\n",
    "        return self.shipping\n",
    "\n",
    "\n",
    "class Shirt(Clothing):\n",
    "\n",
    "  #TODO: Create a class called shirt that has following attributes and methods attributes: color, size, style, price, long_or_short\n",
    "         # methods: double_price, which has no inputs and returns two times the price of the blouse\n",
    "    \n",
    "    def __init__(self, color, size, style, price, long_or_short):\n",
    "        super().__init__(color, size, style, price)\n",
    "        self.long_or_short = long_or_short\n",
    "\n",
    "    def double_price(self):\n",
    "        return 2 * self.price\n",
    "    \n",
    "class Pants(Clothing):\n",
    "    def __init__(self, color, size, style, price, waist):\n",
    "        super().__init__(color, size, style, price)\n",
    "        self.waist = waist\n",
    "        \n",
    "    def calculate_discount(self, discount):\n",
    "        self.discount = discount \n",
    "        newDiscount = self.price * (1 - self.discount)\n",
    "        return newDiscount\n",
    "    \n",
    "# TODO: Write a class called Blouse, that inherits from the Clothing class and has the the following attributes and methods:\n",
    "#       attributes: color, size, style, price, country_of_origin where country_of_origin is a string that holds the name of a country\n",
    "#       methods: triple_price, which has no inputs and returns three times the price of the blouse\n",
    "\n",
    "class Blouse(Clothing):\n",
    "    def __init__(self, color, size, style, price, country_of_origin):\n",
    "        super().__init__(color, size, style, price)\n",
    "        self.country_of_origin = country_of_origin\n",
    "\n",
    "        \n",
    "    def triple_price(self):\n",
    "        return 3 * self.price\n",
    "\n",
    "# TODO: Add a method to the clothing class called calculate_shipping.\n",
    "#   The method has two inputs: weight and rate. Weight is a float representing the weight of the article of clothing. Rate is \n",
    "#   a float representing the shipping weight. The method returns weight * rate"
   ]
  },
  {
   "cell_type": "code",
   "execution_count": 6,
   "metadata": {},
   "outputs": [
    {
     "data": {
      "text/plain": [
       "30.0"
      ]
     },
     "execution_count": 6,
     "metadata": {},
     "output_type": "execute_result"
    }
   ],
   "source": [
    "d = Clothing('color', 'size', 'style', 10)\n",
    "d.change_price(10)\n",
    "d.calculate_shipping(3, 8)\n",
    "d.calculate_discount(0.4)\n",
    "\n",
    "b = Blouse('10', '20', 'style', 10.00, 'ghana')\n",
    "b.triple_price()\n"
   ]
  }
 ],
 "metadata": {
  "interpreter": {
   "hash": "c9b162c81217fba9ba3eb51ac1211b068674c77aacca938da1c2aabc35c123db"
  },
  "kernelspec": {
   "display_name": "Python 3.8.12 64-bit ('peterzorve': conda)",
   "language": "python",
   "name": "python3"
  },
  "language_info": {
   "codemirror_mode": {
    "name": "ipython",
    "version": 3
   },
   "file_extension": ".py",
   "mimetype": "text/x-python",
   "name": "python",
   "nbconvert_exporter": "python",
   "pygments_lexer": "ipython3",
   "version": "3.8.12"
  },
  "orig_nbformat": 4
 },
 "nbformat": 4,
 "nbformat_minor": 2
}
