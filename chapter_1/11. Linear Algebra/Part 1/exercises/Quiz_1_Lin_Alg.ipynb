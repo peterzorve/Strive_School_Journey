{
 "cells": [
  {
   "cell_type": "markdown",
   "metadata": {},
   "source": [
    "## Linear Algebra Quiz #1\n",
    "\n",
    "![title](./img/1_0.jpeg)\n",
    "\n",
    "We strongly suggest working with numpy :)"
   ]
  },
  {
   "cell_type": "code",
   "execution_count": 45,
   "metadata": {},
   "outputs": [],
   "source": [
    "#Do your imports here\n",
    "import numpy as np\n"
   ]
  },
  {
   "cell_type": "markdown",
   "metadata": {},
   "source": [
    "![title](./img/1_1.png)"
   ]
  },
  {
   "cell_type": "code",
   "execution_count": 48,
   "metadata": {},
   "outputs": [
    {
     "data": {
      "text/plain": [
       "11.18"
      ]
     },
     "execution_count": 48,
     "metadata": {},
     "output_type": "execute_result"
    }
   ],
   "source": [
    "# I inserted this cell \n",
    "\n",
    "import numpy as np\n",
    "def magnitiude(a, b, c):\n",
    "#    vector = np.array([a, b, c])\n",
    "    result10 = np.sqrt((a**2) + (b**2) + (c**2))\n",
    "    return round(result10, 2)\n",
    "\n",
    "magnitiude(3, 4, 10)"
   ]
  },
  {
   "cell_type": "code",
   "execution_count": null,
   "metadata": {},
   "outputs": [],
   "source": [
    "# type a function that given a 3_dimensional vector it is able to calculate its magnitude\n",
    "\n",
    "def magnitude_3(a,b,c):\n",
    "\n",
    "# type a function that given a n_dimensional vector it is able to calculate its magnitude\n",
    "# if you want to try this from python (not jupyter notebook) https://docs.python.org/3/library/argparse.html would be a good addition\n",
    "# if you are doing this from a jupyter notebook only, you can try to prompt the user for an input  \n",
    "\n",
    "#def magnitude_complete(#inputs):\n",
    "#    pass\n",
    "\n"
   ]
  },
  {
   "cell_type": "code",
   "execution_count": 49,
   "metadata": {},
   "outputs": [
    {
     "data": {
      "text/plain": [
       "3.74"
      ]
     },
     "execution_count": 49,
     "metadata": {},
     "output_type": "execute_result"
    }
   ],
   "source": [
    "\n",
    "def magnitude_3(a,b,c):\n",
    "    result11 = round(np.sqrt((a**2) + (b**2) + (c**2)), 2)\n",
    "    return result11\n",
    "\n",
    "magnitude_3(1,2,3)"
   ]
  },
  {
   "cell_type": "code",
   "execution_count": 50,
   "metadata": {},
   "outputs": [
    {
     "name": "stdout",
     "output_type": "stream",
     "text": [
      "1.0\n",
      "2.236\n",
      "3.742\n",
      "5.477\n",
      "7.416\n"
     ]
    }
   ],
   "source": [
    "# I inserted this cell \n",
    "\n",
    "def magnitude_n(*numbers):\n",
    "    result12 = 0\n",
    "    numbersList = []\n",
    "\n",
    "    for number in numbers:\n",
    "        numbersList.append(number)\n",
    "    \n",
    "    numbersList = np.array(numbersList)\n",
    "    sq_of_numbers = numbersList * numbersList\n",
    "    sum_of_numbers = sum(sq_of_numbers)\n",
    "    sqrt_of_numbers = round(np.sqrt(sum_of_numbers), 3)\n",
    "\n",
    "    return sqrt_of_numbers\n",
    "\n",
    "print( magnitude_n(1) )\n",
    "print( magnitude_n(1, 2) )\n",
    "print( magnitude_n(1, 2, 3) )\n",
    "print( magnitude_n(1,2, 3, 4) )\n",
    "print( magnitude_n(1,2, 3, 4, 5) )"
   ]
  },
  {
   "cell_type": "markdown",
   "metadata": {},
   "source": [
    "uncomment the following line when you are ready to test"
   ]
  },
  {
   "cell_type": "code",
   "execution_count": null,
   "metadata": {},
   "outputs": [],
   "source": [
    "assert magnitude_complete(1) == 1.0\n",
    "assert magnitude_complete(1,2) >= 2.236\n",
    "assert magnitude_complete(1,2,3) >= 3.741\n",
    "assert magnitude_complete(1,2,3,4,5) >= 5.477\n",
    "assert magnitude_complete(1,2,3,4,5) >= 7.416"
   ]
  },
  {
   "cell_type": "markdown",
   "metadata": {},
   "source": [
    "![title](./img/1_2.png)"
   ]
  },
  {
   "cell_type": "code",
   "execution_count": 60,
   "metadata": {},
   "outputs": [
    {
     "name": "stdout",
     "output_type": "stream",
     "text": [
      "The magnitude are the same\n"
     ]
    },
    {
     "data": {
      "text/plain": [
       "'magnitude of [5, 1] = 5.1 and magnitude of [-5, -1]  = 5.1'"
      ]
     },
     "execution_count": 60,
     "metadata": {},
     "output_type": "execute_result"
    }
   ],
   "source": [
    "# I inserted this cell \n",
    "\n",
    "def magnitude_vectors(a, b):\n",
    "    first_vector = np.array(a)\n",
    "    second_vector = np.array(b)\n",
    "\n",
    "    mag_of_a = round(np.linalg.norm(first_vector), 2)\n",
    "    mag_of_b = round(np.linalg.norm(second_vector), 2)\n",
    "\n",
    "    if mag_of_a == mag_of_b:\n",
    "        print('The magnitude are the same')\n",
    "    \n",
    "    else:\n",
    "        print('The magnitude are NOT the same')\n",
    "\n",
    "    return f'magnitude of {a} = {mag_of_a} and magnitude of {b}  = {mag_of_b}'\n",
    "\n",
    "magnitude_vectors([5, 1], [-5, -1])\n"
   ]
  },
  {
   "cell_type": "code",
   "execution_count": null,
   "metadata": {},
   "outputs": [],
   "source": [
    "def magnitude_vectors(a, b):\n",
    "    #checks that size is equal\n",
    "    \n",
    "    #returns the magnitude\n",
    "    pass"
   ]
  },
  {
   "cell_type": "markdown",
   "metadata": {},
   "source": [
    "![title](./img/1_3.png)"
   ]
  },
  {
   "cell_type": "code",
   "execution_count": 61,
   "metadata": {},
   "outputs": [
    {
     "data": {
      "text/plain": [
       "9.22"
      ]
     },
     "execution_count": 61,
     "metadata": {},
     "output_type": "execute_result"
    }
   ],
   "source": [
    "\n",
    "def magnitude_vectors(x, y):\n",
    "    result13 = round ( np.sqrt ( ((y[1] - x[1])**2 +  ((y[0] - x[0])**2) )  ), 2)\n",
    "    return result13\n",
    "\n",
    "x = [5, 1]\n",
    "y = [-4, -1]\n",
    "\n",
    "magnitude_vectors(x, y)\n",
    "\n"
   ]
  },
  {
   "cell_type": "code",
   "execution_count": null,
   "metadata": {},
   "outputs": [],
   "source": [
    "def direction_vectors(a, b): \n",
    "    #checks that size is equal\n",
    "    \n",
    "    #returns the angle. Hint: use the arctan\n",
    "    \n",
    "# or if you want to do it all in one batch:\n",
    "def magdir_vectors(a, b):\n",
    "    #checks that size is equal\n",
    "    \n",
    "    #returns the magnitude and direction \n",
    "    # as alternative, print them in a nicely printed format like:\n",
    "    #\"The magnitude of a + b is X and the direction is Y\""
   ]
  },
  {
   "cell_type": "markdown",
   "metadata": {},
   "source": [
    "![title](./img/1_4.png)\n",
    "- What is the magnitude of αx⃗? \n",
    "- If α>0, will the direction of the resulting vector change?\n",
    "- If α<0, will the direction of the resulting vector change?\n",
    "- If −1<α<1, will ∥αx⃗∥  increase, decrease or stay the same?"
   ]
  },
  {
   "cell_type": "code",
   "execution_count": null,
   "metadata": {},
   "outputs": [],
   "source": [
    "def alpha_magnitude(alpha, b):\n",
    "    \n",
    "    #returns the resulting magnitude,\n",
    "    # as alternative, just print it\n"
   ]
  },
  {
   "cell_type": "markdown",
   "metadata": {},
   "source": [
    "For the above exercise, write down in markdown or in a comment if the direction has changed and what has happened to the vector."
   ]
  },
  {
   "cell_type": "code",
   "execution_count": null,
   "metadata": {},
   "outputs": [],
   "source": []
  }
 ],
 "metadata": {
  "kernelspec": {
   "display_name": "Python 3",
   "language": "python",
   "name": "python3"
  },
  "language_info": {
   "codemirror_mode": {
    "name": "ipython",
    "version": 3
   },
   "file_extension": ".py",
   "mimetype": "text/x-python",
   "name": "python",
   "nbconvert_exporter": "python",
   "pygments_lexer": "ipython3",
   "version": "3.8.12"
  },
  "varInspector": {
   "cols": {
    "lenName": 16,
    "lenType": 16,
    "lenVar": 40
   },
   "kernels_config": {
    "python": {
     "delete_cmd_postfix": "",
     "delete_cmd_prefix": "del ",
     "library": "var_list.py",
     "varRefreshCmd": "print(var_dic_list())"
    },
    "r": {
     "delete_cmd_postfix": ") ",
     "delete_cmd_prefix": "rm(",
     "library": "var_list.r",
     "varRefreshCmd": "cat(var_dic_list()) "
    }
   },
   "types_to_exclude": [
    "module",
    "function",
    "builtin_function_or_method",
    "instance",
    "_Feature"
   ],
   "window_display": false
  }
 },
 "nbformat": 4,
 "nbformat_minor": 2
}
