{
 "cells": [
  {
   "cell_type": "markdown",
   "metadata": {},
   "source": [
    "Here you have a collection of guided exercises for the first class on Python. <br>\n",
    "The exercises are divided by topic, following the topics reviewed during the theory session, and for each topic you have some mandatory exercises, and other optional exercises, which you are invited to do if you still have time after the mandatory exercises. <br>\n",
    "\n",
    "Remember that you have 5 hours to solve these exercises, after which we will review the most interesting exercises together. If you don't finish all the exercises, you can work on them tonightor tomorrow. \n",
    "\n",
    "At the end of the class, we will upload the code with the solutions of the exercises so that you can review them again if needed. If you still have not finished some exercises, try to do them first by yourself, before taking a look at the solutions: you are doing these exercises for yourself, so it is always the best to do them your way first, as it is the fastest way to learn!"
   ]
  },
  {
   "cell_type": "markdown",
   "metadata": {},
   "source": [
    "**Exercise 4.1 (🌶️🌶️):** Define a function that receives a string parameter, and returns an integer indicating the count for all the letters of the alphabet that there are in the string. The expected output format is in a **dictionary** with the relevant keys and values. The capital version of a lower case letter is considered to be the same letter.\n",
    "\n",
    "This should sound quite familiar, try to do it without looking at your old code ;)\n",
    "\n",
    "**What is the challenge?**: Don't code 27 times the same line of code, learn how to do things that scale well."
   ]
  },
  {
   "cell_type": "code",
   "execution_count": 7,
   "metadata": {},
   "outputs": [
    {
     "name": "stdout",
     "output_type": "stream",
     "text": [
      "{'i': 6, ' ': 9, 'a': 2, 'm': 4, 'g': 5, 'o': 6, 'n': 7, 't': 2, 'h': 1, 'e': 1, 'f': 1, 'r': 4, 'd': 1, 'y': 1}\n"
     ]
    }
   ],
   "source": [
    "\n",
    "\n",
    "def countLetter(myString):\n",
    "\n",
    "    initialDictionary = {}\n",
    "\n",
    "    for letter in myString:\n",
    "        if letter not in initialDictionary:\n",
    "            initialDictionary[letter] = 1\n",
    "\n",
    "        else:\n",
    "            initialDictionary[letter] =  initialDictionary[letter] + 1\n",
    "        \n",
    "    print(initialDictionary)\n",
    "\n",
    "    return\n",
    "\n",
    "    \n",
    "myString = 'I am going to the on Friday morning morning moring'.lower()\n",
    "countLetter(myString)\n",
    "\n"
   ]
  },
  {
   "cell_type": "markdown",
   "metadata": {},
   "source": [
    "**Exercise 5.6 (🌶️🌶️):** A prime number is a positive integer that is dividable by exactly two different numbers, namely 1 and itself. The lowest (and only even) prime number is 2. The first 10 prime numbers are 2, 3, 5, 7, 11, 13, 17, 19, 23, and 29. Write a function that returns a **list off all prime numbers** below a given number.\n",
    "\n",
    "Hint: In a loop where you test the possible dividers of the number, you can conclude that the number is not prime as soon as you encounter a number other than 1 or the number itself that divides it. However, you can *only* conclude that it actually *is* prime after you have tested all possible dividers.\n",
    "\n",
    "**What is the challenge here? You have to try to optimize your code and try to make it work for the highest prime number you can encounter before you run out of memory. For low numbers you should know how to do it already**"
   ]
  },
  {
   "cell_type": "code",
   "execution_count": 8,
   "metadata": {},
   "outputs": [
    {
     "ename": "NameError",
     "evalue": "name 'check' is not defined",
     "output_type": "error",
     "traceback": [
      "\u001b[1;31m---------------------------------------------------------------------------\u001b[0m",
      "\u001b[1;31mNameError\u001b[0m                                 Traceback (most recent call last)",
      "Input \u001b[1;32mIn [8]\u001b[0m, in \u001b[0;36m<module>\u001b[1;34m\u001b[0m\n\u001b[0;32m     11\u001b[0m         check \u001b[38;5;241m=\u001b[39m \u001b[38;5;124m'\u001b[39m\u001b[38;5;124mnot prime\u001b[39m\u001b[38;5;124m'\u001b[39m\n\u001b[0;32m     12\u001b[0m         \u001b[38;5;28;01mbreak\u001b[39;00m\n\u001b[1;32m---> 13\u001b[0m \u001b[38;5;28mprint\u001b[39m(\u001b[43mcheck\u001b[49m)\n",
      "\u001b[1;31mNameError\u001b[0m: name 'check' is not defined"
     ]
    }
   ],
   "source": [
    "\n",
    "theNumber = 11\n",
    "\n",
    "if theNumber <= 1 :\n",
    "    print('Enter a positive integer greater than 1. ')\n",
    "elif theNumber == 2:\n",
    "    print('2 is the smallest prime number! ')\n",
    "\n",
    "elif theNumber >= 3:\n",
    "    for number in range(2, theNumber-1, 1):\n",
    "        if  (theNumber % number) == 0:\n",
    "            check = 'not prime'\n",
    "            break\n",
    "    print(check)\n",
    "    "
   ]
  },
  {
   "cell_type": "markdown",
   "metadata": {},
   "source": [
    "**Exercise 5.7 (🌶️🌶️):** Write a function that prints all integers between the parameters `a` and `b` that can be written as the sum of two squares. Produce output in the form of `z = x**2 + y**2`, e.g., `58 = 3**2 + 7**2`. If a number occurs on the list with multiple *different* ways of writing it as the sum of two squares, that is acceptable. "
   ]
  },
  {
   "cell_type": "code",
   "execution_count": 3,
   "metadata": {},
   "outputs": [
    {
     "name": "stdout",
     "output_type": "stream",
     "text": [
      "18   =   3 **2  +  3 **2\n",
      "25   =   3 **2  +  4 **2\n",
      "34   =   3 **2  +  5 **2\n",
      "45   =   3 **2  +  6 **2\n",
      "58   =   3 **2  +  7 **2\n",
      "25   =   4 **2  +  3 **2\n",
      "32   =   4 **2  +  4 **2\n",
      "41   =   4 **2  +  5 **2\n",
      "52   =   4 **2  +  6 **2\n",
      "34   =   5 **2  +  3 **2\n",
      "41   =   5 **2  +  4 **2\n",
      "50   =   5 **2  +  5 **2\n",
      "45   =   6 **2  +  3 **2\n",
      "52   =   6 **2  +  4 **2\n",
      "58   =   7 **2  +  3 **2\n"
     ]
    }
   ],
   "source": [
    "#Your Code Here\n",
    "\n",
    "def square(firstRange, secondRange):\n",
    "\n",
    "    interval = range(firstRange, secondRange+1, 1)\n",
    "\n",
    "    for x in interval:\n",
    "        for y in interval:\n",
    "            c = (x**2) + (y**2)\n",
    "            if c <= secondRange:\n",
    "                print(c, '  =  ', x , '**2  + ', y, '**2')\n",
    "    return\n",
    "\n",
    "square(3, 60)"
   ]
  },
  {
   "cell_type": "code",
   "execution_count": null,
   "metadata": {},
   "outputs": [],
   "source": []
  }
 ],
 "metadata": {
  "kernelspec": {
   "display_name": "Python 3",
   "language": "python",
   "name": "python3"
  },
  "language_info": {
   "codemirror_mode": {
    "name": "ipython",
    "version": 3
   },
   "file_extension": ".py",
   "mimetype": "text/x-python",
   "name": "python",
   "nbconvert_exporter": "python",
   "pygments_lexer": "ipython3",
   "version": "3.8.12"
  }
 },
 "nbformat": 4,
 "nbformat_minor": 4
}
