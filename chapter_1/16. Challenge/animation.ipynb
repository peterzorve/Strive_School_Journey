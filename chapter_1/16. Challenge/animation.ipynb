{
 "cells": [
  {
   "cell_type": "code",
   "execution_count": null,
   "metadata": {},
   "outputs": [],
   "source": []
  },
  {
   "cell_type": "markdown",
   "metadata": {},
   "source": []
  },
  {
   "cell_type": "code",
   "execution_count": 27,
   "metadata": {},
   "outputs": [],
   "source": [
    "## Rotation matrix"
   ]
  },
  {
   "cell_type": "markdown",
   "metadata": {},
   "source": [
    "Multiplying a vector by a matrix is equivalent to apply a linear transformation to that vector. One common example, is the rotation matrix: ![image](https://wikimedia.org/api/rest_v1/media/math/render/svg/678b1828be1c7064bc3f25cd1cb323f88f0d8acf)"
   ]
  },
  {
   "cell_type": "markdown",
   "metadata": {},
   "source": [
    "where the theta is the angle by which the vector is rotated.\n",
    "\n",
    "Could you create a function that:\n",
    "    \n",
    "- receive the angle as input argument and a vector as input\n",
    "- plots both the original and the transformed vector on the same plot but with different colors\n",
    "\n",
    "?\n",
    "\n",
    "BONUS: https://matplotlib.org/stable/api/animation_api.html\n",
    "\n",
    "Can you make an animation that shows the intermediate steps of the rotation and save into a gif?\n",
    "\n",
    "Tip: don't contraint your imagination."
   ]
  },
  {
   "cell_type": "code",
   "execution_count": 28,
   "metadata": {},
   "outputs": [
    {
     "data": {
      "image/png": "[encoded data removed]",
      "text/plain": [
       "<Figure size 432x288 with 1 Axes>"
      ]
     },
     "metadata": {
      "needs_background": "light"
     },
     "output_type": "display_data"
    }
   ],
   "source": [
    "import numpy as np \n",
    "import matplotlib.pyplot as plt\n",
    "\n",
    "def rotation(angle, vector):\n",
    "    final_vector = None\n",
    "\n",
    "    if type(vector) == int or type(vector) == float:\n",
    "        print('Vector cannot be only one value: Enter two values in a square bracket')\n",
    " \n",
    "    elif len(vector) == 2:\n",
    "        angle = np.radians(angle)\n",
    "        initial_vector = np.array(vector)\n",
    "        rotation_matrix = np.array([ [round(np.cos(angle),4), round(-np.sin(angle),4)], [round(np.sin(angle),4), round(np.cos(angle),4)]])\n",
    "        final_vector = np.dot(rotation_matrix, initial_vector)\n",
    "\n",
    "        plt.plot(initial_vector[0], initial_vector[1], marker=\"o\", markersize=10, markeredgecolor=\"green\", markerfacecolor=\"green\")\n",
    "        plt.plot(final_vector[0], final_vector[1], marker=\"o\", markersize=10, markeredgecolor=\"red\", markerfacecolor=\"red\")\n",
    "        plt.axhline(y=0)\n",
    "        plt.axvline(x=0)      \n",
    "\n",
    "    else: \n",
    "        print('Vector should take only two values in a square bracket')\n",
    "       \n",
    "\n",
    "    return\n",
    "\n",
    "rotation(45, [10, 0])"
   ]
  },
  {
   "cell_type": "code",
   "execution_count": 29,
   "metadata": {},
   "outputs": [],
   "source": [
    "import pandas as pd"
   ]
  },
  {
   "cell_type": "code",
   "execution_count": 30,
   "metadata": {},
   "outputs": [
    {
     "data": {
      "text/html": [
       "<div>\n",
       "<style scoped>\n",
       "    .dataframe tbody tr th:only-of-type {\n",
       "        vertical-align: middle;\n",
       "    }\n",
       "\n",
       "    .dataframe tbody tr th {\n",
       "        vertical-align: top;\n",
       "    }\n",
       "\n",
       "    .dataframe thead th {\n",
       "        text-align: right;\n",
       "    }\n",
       "</style>\n",
       "<table border=\"1\" class=\"dataframe\">\n",
       "  <thead>\n",
       "    <tr style=\"text-align: right;\">\n",
       "      <th></th>\n",
       "      <th>Gender</th>\n",
       "      <th>Height</th>\n",
       "      <th>Weight</th>\n",
       "      <th>Index</th>\n",
       "    </tr>\n",
       "  </thead>\n",
       "  <tbody>\n",
       "    <tr>\n",
       "      <th>0</th>\n",
       "      <td>Male</td>\n",
       "      <td>174</td>\n",
       "      <td>96</td>\n",
       "      <td>4</td>\n",
       "    </tr>\n",
       "    <tr>\n",
       "      <th>1</th>\n",
       "      <td>Male</td>\n",
       "      <td>189</td>\n",
       "      <td>87</td>\n",
       "      <td>2</td>\n",
       "    </tr>\n",
       "    <tr>\n",
       "      <th>2</th>\n",
       "      <td>Female</td>\n",
       "      <td>185</td>\n",
       "      <td>110</td>\n",
       "      <td>4</td>\n",
       "    </tr>\n",
       "    <tr>\n",
       "      <th>3</th>\n",
       "      <td>Female</td>\n",
       "      <td>195</td>\n",
       "      <td>104</td>\n",
       "      <td>3</td>\n",
       "    </tr>\n",
       "    <tr>\n",
       "      <th>4</th>\n",
       "      <td>Male</td>\n",
       "      <td>149</td>\n",
       "      <td>61</td>\n",
       "      <td>3</td>\n",
       "    </tr>\n",
       "    <tr>\n",
       "      <th>...</th>\n",
       "      <td>...</td>\n",
       "      <td>...</td>\n",
       "      <td>...</td>\n",
       "      <td>...</td>\n",
       "    </tr>\n",
       "    <tr>\n",
       "      <th>495</th>\n",
       "      <td>Female</td>\n",
       "      <td>150</td>\n",
       "      <td>153</td>\n",
       "      <td>5</td>\n",
       "    </tr>\n",
       "    <tr>\n",
       "      <th>496</th>\n",
       "      <td>Female</td>\n",
       "      <td>184</td>\n",
       "      <td>121</td>\n",
       "      <td>4</td>\n",
       "    </tr>\n",
       "    <tr>\n",
       "      <th>497</th>\n",
       "      <td>Female</td>\n",
       "      <td>141</td>\n",
       "      <td>136</td>\n",
       "      <td>5</td>\n",
       "    </tr>\n",
       "    <tr>\n",
       "      <th>498</th>\n",
       "      <td>Male</td>\n",
       "      <td>150</td>\n",
       "      <td>95</td>\n",
       "      <td>5</td>\n",
       "    </tr>\n",
       "    <tr>\n",
       "      <th>499</th>\n",
       "      <td>Male</td>\n",
       "      <td>173</td>\n",
       "      <td>131</td>\n",
       "      <td>5</td>\n",
       "    </tr>\n",
       "  </tbody>\n",
       "</table>\n",
       "<p>500 rows × 4 columns</p>\n",
       "</div>"
      ],
      "text/plain": [
       "     Gender  Height  Weight  Index\n",
       "0      Male     174      96      4\n",
       "1      Male     189      87      2\n",
       "2    Female     185     110      4\n",
       "3    Female     195     104      3\n",
       "4      Male     149      61      3\n",
       "..      ...     ...     ...    ...\n",
       "495  Female     150     153      5\n",
       "496  Female     184     121      4\n",
       "497  Female     141     136      5\n",
       "498    Male     150      95      5\n",
       "499    Male     173     131      5\n",
       "\n",
       "[500 rows x 4 columns]"
      ]
     },
     "execution_count": 30,
     "metadata": {},
     "output_type": "execute_result"
    }
   ],
   "source": [
    "df = pd.read_csv(\"https://raw.githubusercontent.com/chriswmann/datasets/master/500_Person_Gender_Height_Weight_Index.csv\")\n",
    "df"
   ]
  },
  {
   "cell_type": "code",
   "execution_count": null,
   "metadata": {},
   "outputs": [],
   "source": []
  },
  {
   "cell_type": "markdown",
   "metadata": {},
   "source": [
    "You have collected some data about 500 samples of people.\n",
    "\n",
    "You have information about the weight, the height, the gender and the BMI of the person.\n",
    "\n",
    "For the BMI:\n",
    "\n",
    "- 0 means 'Extremely Weak'\n",
    "- 1 means 'Weak'\n",
    "- 2 means 'Normal'\n",
    "- 3 means 'Overweight'\n",
    "- 4 means 'Obesity'\n",
    "- 5 means 'Extreme Obesity'"
   ]
  },
  {
   "cell_type": "code",
   "execution_count": 31,
   "metadata": {},
   "outputs": [
    {
     "data": {
      "text/plain": [
       "5    198\n",
       "4    130\n",
       "2     69\n",
       "3     68\n",
       "1     22\n",
       "0     13\n",
       "Name: Index, dtype: int64"
      ]
     },
     "execution_count": 31,
     "metadata": {},
     "output_type": "execute_result"
    }
   ],
   "source": [
    "df.Index.value_counts()"
   ]
  },
  {
   "cell_type": "markdown",
   "metadata": {},
   "source": [
    "- Can you make an overview about them? For example: how many women are overweight? How many men? Etc etc. \n",
    "\n",
    "- Can you plot the data such that on the x axis you have the weight, on the y axis you have the height, and the individuals of the same BMI (column index) get colored with the same color?"
   ]
  },
  {
   "cell_type": "code",
   "execution_count": 32,
   "metadata": {},
   "outputs": [
    {
     "data": {
      "text/html": [
       "<div>\n",
       "<style scoped>\n",
       "    .dataframe tbody tr th:only-of-type {\n",
       "        vertical-align: middle;\n",
       "    }\n",
       "\n",
       "    .dataframe tbody tr th {\n",
       "        vertical-align: top;\n",
       "    }\n",
       "\n",
       "    .dataframe thead th {\n",
       "        text-align: right;\n",
       "    }\n",
       "</style>\n",
       "<table border=\"1\" class=\"dataframe\">\n",
       "  <thead>\n",
       "    <tr style=\"text-align: right;\">\n",
       "      <th></th>\n",
       "      <th>Gender</th>\n",
       "      <th>Height</th>\n",
       "      <th>Weight</th>\n",
       "      <th>Index</th>\n",
       "    </tr>\n",
       "  </thead>\n",
       "  <tbody>\n",
       "    <tr>\n",
       "      <th>0</th>\n",
       "      <td>Male</td>\n",
       "      <td>174</td>\n",
       "      <td>96</td>\n",
       "      <td>4</td>\n",
       "    </tr>\n",
       "    <tr>\n",
       "      <th>1</th>\n",
       "      <td>Male</td>\n",
       "      <td>189</td>\n",
       "      <td>87</td>\n",
       "      <td>2</td>\n",
       "    </tr>\n",
       "    <tr>\n",
       "      <th>2</th>\n",
       "      <td>Female</td>\n",
       "      <td>185</td>\n",
       "      <td>110</td>\n",
       "      <td>4</td>\n",
       "    </tr>\n",
       "    <tr>\n",
       "      <th>3</th>\n",
       "      <td>Female</td>\n",
       "      <td>195</td>\n",
       "      <td>104</td>\n",
       "      <td>3</td>\n",
       "    </tr>\n",
       "    <tr>\n",
       "      <th>4</th>\n",
       "      <td>Male</td>\n",
       "      <td>149</td>\n",
       "      <td>61</td>\n",
       "      <td>3</td>\n",
       "    </tr>\n",
       "    <tr>\n",
       "      <th>...</th>\n",
       "      <td>...</td>\n",
       "      <td>...</td>\n",
       "      <td>...</td>\n",
       "      <td>...</td>\n",
       "    </tr>\n",
       "    <tr>\n",
       "      <th>495</th>\n",
       "      <td>Female</td>\n",
       "      <td>150</td>\n",
       "      <td>153</td>\n",
       "      <td>5</td>\n",
       "    </tr>\n",
       "    <tr>\n",
       "      <th>496</th>\n",
       "      <td>Female</td>\n",
       "      <td>184</td>\n",
       "      <td>121</td>\n",
       "      <td>4</td>\n",
       "    </tr>\n",
       "    <tr>\n",
       "      <th>497</th>\n",
       "      <td>Female</td>\n",
       "      <td>141</td>\n",
       "      <td>136</td>\n",
       "      <td>5</td>\n",
       "    </tr>\n",
       "    <tr>\n",
       "      <th>498</th>\n",
       "      <td>Male</td>\n",
       "      <td>150</td>\n",
       "      <td>95</td>\n",
       "      <td>5</td>\n",
       "    </tr>\n",
       "    <tr>\n",
       "      <th>499</th>\n",
       "      <td>Male</td>\n",
       "      <td>173</td>\n",
       "      <td>131</td>\n",
       "      <td>5</td>\n",
       "    </tr>\n",
       "  </tbody>\n",
       "</table>\n",
       "<p>500 rows × 4 columns</p>\n",
       "</div>"
      ],
      "text/plain": [
       "     Gender  Height  Weight  Index\n",
       "0      Male     174      96      4\n",
       "1      Male     189      87      2\n",
       "2    Female     185     110      4\n",
       "3    Female     195     104      3\n",
       "4      Male     149      61      3\n",
       "..      ...     ...     ...    ...\n",
       "495  Female     150     153      5\n",
       "496  Female     184     121      4\n",
       "497  Female     141     136      5\n",
       "498    Male     150      95      5\n",
       "499    Male     173     131      5\n",
       "\n",
       "[500 rows x 4 columns]"
      ]
     },
     "execution_count": 32,
     "metadata": {},
     "output_type": "execute_result"
    }
   ],
   "source": [
    "df"
   ]
  },
  {
   "cell_type": "code",
   "execution_count": 33,
   "metadata": {},
   "outputs": [
    {
     "name": "stderr",
     "output_type": "stream",
     "text": [
      "C:\\Users\\Omistaja\\AppData\\Local\\Temp\\ipykernel_7200\\1961928288.py:3: UserWarning: Boolean Series key will be reindexed to match DataFrame index.\n",
      "  female_extremely_weak = df[df.Gender == 'Female'][df.Index == 0]\n",
      "C:\\Users\\Omistaja\\AppData\\Local\\Temp\\ipykernel_7200\\1961928288.py:4: UserWarning: Boolean Series key will be reindexed to match DataFrame index.\n",
      "  female_weak = df[df.Gender == 'Female'][df.Index == 1]\n",
      "C:\\Users\\Omistaja\\AppData\\Local\\Temp\\ipykernel_7200\\1961928288.py:5: UserWarning: Boolean Series key will be reindexed to match DataFrame index.\n",
      "  female_normal = df[df.Gender == 'Female'][df.Index == 2]\n",
      "C:\\Users\\Omistaja\\AppData\\Local\\Temp\\ipykernel_7200\\1961928288.py:6: UserWarning: Boolean Series key will be reindexed to match DataFrame index.\n",
      "  female_overweight = df[df.Gender == 'Female'][df.Index == 3]\n",
      "C:\\Users\\Omistaja\\AppData\\Local\\Temp\\ipykernel_7200\\1961928288.py:7: UserWarning: Boolean Series key will be reindexed to match DataFrame index.\n",
      "  female_obesity = df[df.Gender == 'Female'][df.Index == 4]\n",
      "C:\\Users\\Omistaja\\AppData\\Local\\Temp\\ipykernel_7200\\1961928288.py:8: UserWarning: Boolean Series key will be reindexed to match DataFrame index.\n",
      "  female_extremely_obesity = df[df.Gender == 'Female'][df.Index == 5]\n",
      "C:\\Users\\Omistaja\\AppData\\Local\\Temp\\ipykernel_7200\\1961928288.py:10: UserWarning: Boolean Series key will be reindexed to match DataFrame index.\n",
      "  male_extremely_weak = df[df.Gender == 'Male'][df.Index == 0]\n",
      "C:\\Users\\Omistaja\\AppData\\Local\\Temp\\ipykernel_7200\\1961928288.py:11: UserWarning: Boolean Series key will be reindexed to match DataFrame index.\n",
      "  male_weak = df[df.Gender == 'Male'][df.Index == 1]\n",
      "C:\\Users\\Omistaja\\AppData\\Local\\Temp\\ipykernel_7200\\1961928288.py:12: UserWarning: Boolean Series key will be reindexed to match DataFrame index.\n",
      "  male_normal = df[df.Gender == 'Male'][df.Index == 2]\n",
      "C:\\Users\\Omistaja\\AppData\\Local\\Temp\\ipykernel_7200\\1961928288.py:13: UserWarning: Boolean Series key will be reindexed to match DataFrame index.\n",
      "  male_overweight = df[df.Gender == 'Male'][df.Index == 3]\n",
      "C:\\Users\\Omistaja\\AppData\\Local\\Temp\\ipykernel_7200\\1961928288.py:14: UserWarning: Boolean Series key will be reindexed to match DataFrame index.\n",
      "  male_obesity = df[df.Gender == 'Male'][df.Index == 4]\n",
      "C:\\Users\\Omistaja\\AppData\\Local\\Temp\\ipykernel_7200\\1961928288.py:15: UserWarning: Boolean Series key will be reindexed to match DataFrame index.\n",
      "  male_extremely_obesity = df[df.Gender == 'Male'][df.Index == 5]\n"
     ]
    }
   ],
   "source": [
    "#df.value_counts('Gender')\n",
    "\n",
    "female_extremely_weak = df[df.Gender == 'Female'][df.Index == 0]\n",
    "female_weak = df[df.Gender == 'Female'][df.Index == 1]\n",
    "female_normal = df[df.Gender == 'Female'][df.Index == 2]\n",
    "female_overweight = df[df.Gender == 'Female'][df.Index == 3]\n",
    "female_obesity = df[df.Gender == 'Female'][df.Index == 4]\n",
    "female_extremely_obesity = df[df.Gender == 'Female'][df.Index == 5]\n",
    "\n",
    "male_extremely_weak = df[df.Gender == 'Male'][df.Index == 0]\n",
    "male_weak = df[df.Gender == 'Male'][df.Index == 1]\n",
    "male_normal = df[df.Gender == 'Male'][df.Index == 2]\n",
    "male_overweight = df[df.Gender == 'Male'][df.Index == 3]\n",
    "male_obesity = df[df.Gender == 'Male'][df.Index == 4]\n",
    "male_extremely_obesity = df[df.Gender == 'Male'][df.Index == 5]\n",
    "\n",
    "cases = ['Extremely Weak', 'Weak', 'Normal', 'Overweight', 'Obesity', 'Extremely Obesity']\n",
    "cases_female = [len(female_extremely_weak), len(female_weak), len(female_normal), len(female_overweight), len(female_obesity), len(female_extremely_obesity)]\n",
    "cases_female = [len(male_extremely_weak), len(male_weak), len(male_normal), len(male_overweight), len(male_obesity), len(male_extremely_obesity)]\n"
   ]
  },
  {
   "cell_type": "code",
   "execution_count": 34,
   "metadata": {},
   "outputs": [],
   "source": [
    "import matplotlib.pyplot as plt\n",
    "import numpy as np"
   ]
  },
  {
   "cell_type": "code",
   "execution_count": 35,
   "metadata": {},
   "outputs": [
    {
     "name": "stdout",
     "output_type": "stream",
     "text": [
      "['Extremely Weak', 'Weak', 'Normal', 'Overweight', 'Obesity', 'Extremely Obesity']\n",
      "[7, 7, 41, 36, 71, 93]\n",
      "[6, 15, 28, 32, 59, 105]\n"
     ]
    }
   ],
   "source": [
    "cases = ['Extremely Weak', 'Weak', 'Normal', 'Overweight', 'Obesity', 'Extremely Obesity']\n",
    "cases_female = [len(female_extremely_weak), len(female_weak), len(female_normal), len(female_overweight), len(female_obesity), len(female_extremely_obesity)]\n",
    "cases_male = [len(male_extremely_weak), len(male_weak), len(male_normal), len(male_overweight), len(male_obesity), len(male_extremely_obesity)]\n",
    "\n",
    "print(cases)\n",
    "print(cases_female)\n",
    "print(cases_male)"
   ]
  },
  {
   "cell_type": "code",
   "execution_count": 36,
   "metadata": {},
   "outputs": [
    {
     "data": {
      "image/png": "[encoded data removed]",
      "text/plain": [
       "<Figure size 864x576 with 1 Axes>"
      ]
     },
     "metadata": {
      "needs_background": "light"
     },
     "output_type": "display_data"
    }
   ],
   "source": [
    "# plt.bar(cases, cases_female)\n",
    "# plt.bar(cases, cases_male)\n",
    "\n",
    "fig, ax = plt.subplots(figsize=(12,8))\n",
    "width = 0.4\n",
    "r = np.arange(len(cases))\n",
    "plt.bar(r, cases_female, width = width, label = 'Female')\n",
    "plt.bar(r+width, cases_male, width =width, label = 'Male')\n",
    "#plt.bar(r+width + 0.2,df4['toothpaste'], width =width, label = 'toothpaste sales', rwidth = 0.5)\n",
    "plt.xticks(r+0.2, cases)\n",
    "\n",
    "\n",
    "plt.grid(True,linestyle = '--')\n",
    "plt.legend()\n",
    "plt.show()"
   ]
  },
  {
   "cell_type": "markdown",
   "metadata": {},
   "source": [
    "- Can you make an overview about them? For example: how many women are overweight? How many men? Etc etc. \n",
    "\n",
    "- Can you plot the data such that on the x axis you have the weight, on the y axis you have the height, and the individuals of the same BMI (column index) get colored with the same color?"
   ]
  },
  {
   "cell_type": "code",
   "execution_count": 37,
   "metadata": {},
   "outputs": [
    {
     "data": {
      "text/html": [
       "<div>\n",
       "<style scoped>\n",
       "    .dataframe tbody tr th:only-of-type {\n",
       "        vertical-align: middle;\n",
       "    }\n",
       "\n",
       "    .dataframe tbody tr th {\n",
       "        vertical-align: top;\n",
       "    }\n",
       "\n",
       "    .dataframe thead th {\n",
       "        text-align: right;\n",
       "    }\n",
       "</style>\n",
       "<table border=\"1\" class=\"dataframe\">\n",
       "  <thead>\n",
       "    <tr style=\"text-align: right;\">\n",
       "      <th></th>\n",
       "      <th>Gender</th>\n",
       "      <th>Height</th>\n",
       "      <th>Weight</th>\n",
       "      <th>Index</th>\n",
       "    </tr>\n",
       "  </thead>\n",
       "  <tbody>\n",
       "    <tr>\n",
       "      <th>0</th>\n",
       "      <td>Male</td>\n",
       "      <td>174</td>\n",
       "      <td>96</td>\n",
       "      <td>4</td>\n",
       "    </tr>\n",
       "    <tr>\n",
       "      <th>1</th>\n",
       "      <td>Male</td>\n",
       "      <td>189</td>\n",
       "      <td>87</td>\n",
       "      <td>2</td>\n",
       "    </tr>\n",
       "    <tr>\n",
       "      <th>2</th>\n",
       "      <td>Female</td>\n",
       "      <td>185</td>\n",
       "      <td>110</td>\n",
       "      <td>4</td>\n",
       "    </tr>\n",
       "    <tr>\n",
       "      <th>3</th>\n",
       "      <td>Female</td>\n",
       "      <td>195</td>\n",
       "      <td>104</td>\n",
       "      <td>3</td>\n",
       "    </tr>\n",
       "    <tr>\n",
       "      <th>4</th>\n",
       "      <td>Male</td>\n",
       "      <td>149</td>\n",
       "      <td>61</td>\n",
       "      <td>3</td>\n",
       "    </tr>\n",
       "    <tr>\n",
       "      <th>...</th>\n",
       "      <td>...</td>\n",
       "      <td>...</td>\n",
       "      <td>...</td>\n",
       "      <td>...</td>\n",
       "    </tr>\n",
       "    <tr>\n",
       "      <th>495</th>\n",
       "      <td>Female</td>\n",
       "      <td>150</td>\n",
       "      <td>153</td>\n",
       "      <td>5</td>\n",
       "    </tr>\n",
       "    <tr>\n",
       "      <th>496</th>\n",
       "      <td>Female</td>\n",
       "      <td>184</td>\n",
       "      <td>121</td>\n",
       "      <td>4</td>\n",
       "    </tr>\n",
       "    <tr>\n",
       "      <th>497</th>\n",
       "      <td>Female</td>\n",
       "      <td>141</td>\n",
       "      <td>136</td>\n",
       "      <td>5</td>\n",
       "    </tr>\n",
       "    <tr>\n",
       "      <th>498</th>\n",
       "      <td>Male</td>\n",
       "      <td>150</td>\n",
       "      <td>95</td>\n",
       "      <td>5</td>\n",
       "    </tr>\n",
       "    <tr>\n",
       "      <th>499</th>\n",
       "      <td>Male</td>\n",
       "      <td>173</td>\n",
       "      <td>131</td>\n",
       "      <td>5</td>\n",
       "    </tr>\n",
       "  </tbody>\n",
       "</table>\n",
       "<p>500 rows × 4 columns</p>\n",
       "</div>"
      ],
      "text/plain": [
       "     Gender  Height  Weight  Index\n",
       "0      Male     174      96      4\n",
       "1      Male     189      87      2\n",
       "2    Female     185     110      4\n",
       "3    Female     195     104      3\n",
       "4      Male     149      61      3\n",
       "..      ...     ...     ...    ...\n",
       "495  Female     150     153      5\n",
       "496  Female     184     121      4\n",
       "497  Female     141     136      5\n",
       "498    Male     150      95      5\n",
       "499    Male     173     131      5\n",
       "\n",
       "[500 rows x 4 columns]"
      ]
     },
     "execution_count": 37,
     "metadata": {},
     "output_type": "execute_result"
    }
   ],
   "source": [
    "df"
   ]
  },
  {
   "cell_type": "code",
   "execution_count": 38,
   "metadata": {},
   "outputs": [
    {
     "data": {
      "text/plain": [
       "<matplotlib.collections.PathCollection at 0x2960d162910>"
      ]
     },
     "execution_count": 38,
     "metadata": {},
     "output_type": "execute_result"
    },
    {
     "data": {
      "image/png": "[encoded data removed]",
      "text/plain": [
       "<Figure size 432x288 with 1 Axes>"
      ]
     },
     "metadata": {
      "needs_background": "light"
     },
     "output_type": "display_data"
    }
   ],
   "source": [
    "# For Males \n",
    "\n",
    "male_height = df[df.Gender == 'Male'].Height\n",
    "male_weight = df[df.Gender == 'Male'].Weight\n",
    "\n",
    "plt.scatter(male_weight, male_height, c=male_weight.index)"
   ]
  },
  {
   "cell_type": "code",
   "execution_count": 39,
   "metadata": {},
   "outputs": [
    {
     "data": {
      "text/plain": [
       "<matplotlib.collections.PathCollection at 0x2960d1ce100>"
      ]
     },
     "execution_count": 39,
     "metadata": {},
     "output_type": "execute_result"
    },
    {
     "data": {
      "image/png": "[encoded data removed]",
      "text/plain": [
       "<Figure size 432x288 with 1 Axes>"
      ]
     },
     "metadata": {
      "needs_background": "light"
     },
     "output_type": "display_data"
    }
   ],
   "source": [
    "# For Females \n",
    "\n",
    "female_height = df[df.Gender == 'Female'].Height\n",
    "female_weight = df[df.Gender == 'Female'].Weight\n",
    "\n",
    "plt.scatter(female_weight, female_height, c=female_weight.index)"
   ]
  },
  {
   "cell_type": "markdown",
   "metadata": {},
   "source": [
    "Can you plot the histograms of the height of males, females and the total dataset? \n",
    "\n",
    "Do the same for the weight."
   ]
  },
  {
   "cell_type": "code",
   "execution_count": 40,
   "metadata": {},
   "outputs": [
    {
     "data": {
      "text/plain": [
       "(array([29., 18., 22., 26., 22., 21., 34., 28., 26., 19.]),\n",
       " array([140. , 145.9, 151.8, 157.7, 163.6, 169.5, 175.4, 181.3, 187.2,\n",
       "        193.1, 199. ]),\n",
       " <BarContainer object of 10 artists>)"
      ]
     },
     "execution_count": 40,
     "metadata": {},
     "output_type": "execute_result"
    },
    {
     "data": {
      "image/png": "[encoded data removed]",
      "text/plain": [
       "<Figure size 432x288 with 1 Axes>"
      ]
     },
     "metadata": {
      "needs_background": "light"
     },
     "output_type": "display_data"
    }
   ],
   "source": [
    "plt.hist(male_height)"
   ]
  },
  {
   "cell_type": "code",
   "execution_count": 41,
   "metadata": {},
   "outputs": [
    {
     "data": {
      "text/plain": [
       "(array([21., 22., 26., 21., 28., 28., 18., 21., 34., 26.]),\n",
       " array([ 50.,  61.,  72.,  83.,  94., 105., 116., 127., 138., 149., 160.]),\n",
       " <BarContainer object of 10 artists>)"
      ]
     },
     "execution_count": 41,
     "metadata": {},
     "output_type": "execute_result"
    },
    {
     "data": {
      "image/png": "[encoded data removed]",
      "text/plain": [
       "<Figure size 432x288 with 1 Axes>"
      ]
     },
     "metadata": {
      "needs_background": "light"
     },
     "output_type": "display_data"
    }
   ],
   "source": [
    "plt.hist(male_weight)"
   ]
  },
  {
   "cell_type": "code",
   "execution_count": 42,
   "metadata": {},
   "outputs": [
    {
     "data": {
      "text/plain": [
       "(array([13., 27., 28., 21., 38., 21., 28., 41., 21., 17.]),\n",
       " array([140. , 145.9, 151.8, 157.7, 163.6, 169.5, 175.4, 181.3, 187.2,\n",
       "        193.1, 199. ]),\n",
       " <BarContainer object of 10 artists>)"
      ]
     },
     "execution_count": 42,
     "metadata": {},
     "output_type": "execute_result"
    },
    {
     "data": {
      "image/png": "[encoded data removed]",
      "text/plain": [
       "<Figure size 432x288 with 1 Axes>"
      ]
     },
     "metadata": {
      "needs_background": "light"
     },
     "output_type": "display_data"
    }
   ],
   "source": [
    "# Females height\n",
    "\n",
    "plt.hist(female_height)"
   ]
  },
  {
   "cell_type": "code",
   "execution_count": 43,
   "metadata": {},
   "outputs": [
    {
     "data": {
      "text/plain": [
       "(array([28., 27., 18., 25., 27., 26., 26., 19., 27., 32.]),\n",
       " array([ 50.,  61.,  72.,  83.,  94., 105., 116., 127., 138., 149., 160.]),\n",
       " <BarContainer object of 10 artists>)"
      ]
     },
     "execution_count": 43,
     "metadata": {},
     "output_type": "execute_result"
    },
    {
     "data": {
      "image/png": "[encoded data removed]",
      "text/plain": [
       "<Figure size 432x288 with 1 Axes>"
      ]
     },
     "metadata": {
      "needs_background": "light"
     },
     "output_type": "display_data"
    }
   ],
   "source": [
    "# Females Weight\n",
    "\n",
    "plt.hist(female_weight)"
   ]
  },
  {
   "cell_type": "code",
   "execution_count": 44,
   "metadata": {},
   "outputs": [
    {
     "data": {
      "text/plain": [
       "(array([42., 45., 50., 47., 60., 42., 62., 69., 47., 36.]),\n",
       " array([140. , 145.9, 151.8, 157.7, 163.6, 169.5, 175.4, 181.3, 187.2,\n",
       "        193.1, 199. ]),\n",
       " <BarContainer object of 10 artists>)"
      ]
     },
     "execution_count": 44,
     "metadata": {},
     "output_type": "execute_result"
    },
    {
     "data": {
      "image/png": "[encoded data removed]",
      "text/plain": [
       "<Figure size 432x288 with 1 Axes>"
      ]
     },
     "metadata": {
      "needs_background": "light"
     },
     "output_type": "display_data"
    }
   ],
   "source": [
    "# Total Dataset Height\n",
    "\n",
    "plt.hist(df.Height)"
   ]
  },
  {
   "cell_type": "code",
   "execution_count": 45,
   "metadata": {},
   "outputs": [
    {
     "data": {
      "text/plain": [
       "(array([49., 49., 44., 46., 55., 54., 44., 40., 61., 58.]),\n",
       " array([ 50.,  61.,  72.,  83.,  94., 105., 116., 127., 138., 149., 160.]),\n",
       " <BarContainer object of 10 artists>)"
      ]
     },
     "execution_count": 45,
     "metadata": {},
     "output_type": "execute_result"
    },
    {
     "data": {
      "image/png": "[encoded data removed]",
      "text/plain": [
       "<Figure size 432x288 with 1 Axes>"
      ]
     },
     "metadata": {
      "needs_background": "light"
     },
     "output_type": "display_data"
    }
   ],
   "source": [
    "# Total Dataset Weight \n",
    "\n",
    "plt.hist(df.Weight)"
   ]
  },
  {
   "cell_type": "code",
   "execution_count": null,
   "metadata": {},
   "outputs": [],
   "source": []
  },
  {
   "cell_type": "code",
   "execution_count": 3,
   "metadata": {},
   "outputs": [
    {
     "data": {
      "image/png": "[encoded data removed]",
      "text/plain": [
       "<Figure size 432x288 with 1 Axes>"
      ]
     },
     "metadata": {
      "needs_background": "light"
     },
     "output_type": "display_data"
    }
   ],
   "source": [
    "import numpy as np \n",
    "import matplotlib.pyplot as plt\n",
    "from matplotlib.animation import FuncAnimation\n",
    "\n",
    "x_values = []\n",
    "y_values = []\n",
    "\n",
    "fig, ax = plt.subplots()\n",
    "ax.set_xlim(0, 105)\n",
    "ax.set_ylim(0, 20)\n",
    "line, = ax.plot(0, 0)\n",
    "\n",
    "def animation_frame(i):\n",
    "    x_values.append(i*10)\n",
    "    y_values.append(i)\n",
    "\n",
    "    line.set_xdata(x_values)\n",
    "    line.set_ydata(y_values)\n",
    "\n",
    "    return line\n",
    "\n",
    "animation = FuncAnimation(fig, func=animation_frame, frames=np.arange(0,10,0.01), interval=1)\n",
    "plt.show()\n"
   ]
  }
 ],
 "metadata": {
  "interpreter": {
   "hash": "97b91b6d5003af60c654b6abfe8ac1e5d274e52e67a717d7df64331168b10d1c"
  },
  "kernelspec": {
   "display_name": "Python 3.8.12 ('pz')",
   "language": "python",
   "name": "python3"
  },
  "language_info": {
   "codemirror_mode": {
    "name": "ipython",
    "version": 3
   },
   "file_extension": ".py",
   "mimetype": "text/x-python",
   "name": "python",
   "nbconvert_exporter": "python",
   "pygments_lexer": "ipython3",
   "version": "3.8.12"
  },
  "orig_nbformat": 4
 },
 "nbformat": 4,
 "nbformat_minor": 2
}
