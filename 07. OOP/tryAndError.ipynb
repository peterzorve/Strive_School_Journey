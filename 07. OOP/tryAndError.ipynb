{
 "cells": [
  {
   "cell_type": "code",
   "execution_count": null,
   "metadata": {},
   "outputs": [],
   "source": [
    "import math\n",
    "import matplotlib.pyplot as plt\n",
    "\n",
    "gaussian = Gaussian()\n",
    "def calculate_mean(self, data):\n",
    "    gaussian = Gaussian()\n",
    "    self.data = gaussian.read_data_file(data)\n",
    "    self.mean = gaussian.mean(self.data)\n",
    "    \n",
    "    return self.mean"
   ]
  }
 ],
 "metadata": {
  "interpreter": {
   "hash": "c9b162c81217fba9ba3eb51ac1211b068674c77aacca938da1c2aabc35c123db"
  },
  "kernelspec": {
   "display_name": "Python 3.8.12 64-bit ('peterzorve': conda)",
   "language": "python",
   "name": "python3"
  },
  "language_info": {
   "codemirror_mode": {
    "name": "ipython",
    "version": 3
   },
   "file_extension": ".py",
   "mimetype": "text/x-python",
   "name": "python",
   "nbconvert_exporter": "python",
   "pygments_lexer": "ipython3",
   "version": "3.8.12"
  },
  "orig_nbformat": 4
 },
 "nbformat": 4,
 "nbformat_minor": 2
}
