{
 "cells": [
  {
   "cell_type": "code",
   "execution_count": 10,
   "metadata": {},
   "outputs": [],
   "source": [
    "import math\n",
    "\n",
    "class MathOperations:\n",
    "    def __init__(self, firstNumber, secondNumber):\n",
    "        self.firstNumber = firstNumber\n",
    "        self.secondNumber = secondNumber\n",
    "\n",
    "    def summation(self):\n",
    "        return self.firstNumber + self.secondNumber\n",
    "\n",
    "    def difference(self):\n",
    "        return self.firstNumber - self.secondNumber    \n",
    "\n",
    "    def multiplication(self):\n",
    "        return self.firstNumber * self.secondNumber\n",
    "\n",
    "    def division(self):\n",
    "        return self.firstNumber / self.secondNumber\n",
    "\n",
    "\n",
    "class MoreMathOperations(MathOperations):\n",
    "    def __init__(self, firstNumber, secondNumber, thirdNumber, fourthNumber):\n",
    "\n",
    "        super().__init__(self, firstNumber, secondNumber)\n",
    "        self.thirdNumber = thirdNumber\n",
    "        self.fourthNumber = fourthNumber\n",
    "\n",
    "    def mean(self):\n",
    "        meanOfNumber = (self.firstNumber + self.secondNumber + self.thirdNumber + self.fourthNumber) / 4\n",
    "        return meanOfNumber\n",
    "\n",
    "    def maximum(self, fifthNumber, sixthNumber):\n",
    "        self.fifhNumber = fifthNumber\n",
    "        self.sixthNumber = sixthNumber\n",
    "        maximumOfNumbers = max(self.firstNumber, self.secondNumber, self.thirdNumber, self.fourthNumber, self.fifhNumber, self.sixthNumber)\n",
    "        return maximumOfNumbers\n",
    "\n",
    "\n",
    "\n",
    "\n"
   ]
  },
  {
   "cell_type": "code",
   "execution_count": 14,
   "metadata": {},
   "outputs": [
    {
     "name": "stdout",
     "output_type": "stream",
     "text": [
      "30\n",
      "200\n"
     ]
    },
    {
     "ename": "TypeError",
     "evalue": "__init__() takes 3 positional arguments but 4 were given",
     "output_type": "error",
     "traceback": [
      "\u001b[1;31m---------------------------------------------------------------------------\u001b[0m",
      "\u001b[1;31mTypeError\u001b[0m                                 Traceback (most recent call last)",
      "Input \u001b[1;32mIn [14]\u001b[0m, in \u001b[0;36m<module>\u001b[1;34m\u001b[0m\n\u001b[0;32m      2\u001b[0m \u001b[38;5;28mprint\u001b[39m(a\u001b[38;5;241m.\u001b[39msummation())\n\u001b[0;32m      3\u001b[0m \u001b[38;5;28mprint\u001b[39m(a\u001b[38;5;241m.\u001b[39mmultiplication())\n\u001b[1;32m----> 5\u001b[0m b \u001b[38;5;241m=\u001b[39m \u001b[43mMoreMathOperations\u001b[49m\u001b[43m(\u001b[49m\u001b[38;5;241;43m10\u001b[39;49m\u001b[43m,\u001b[49m\u001b[43m \u001b[49m\u001b[38;5;241;43m20\u001b[39;49m\u001b[43m,\u001b[49m\u001b[43m \u001b[49m\u001b[38;5;241;43m30\u001b[39;49m\u001b[43m,\u001b[49m\u001b[43m \u001b[49m\u001b[38;5;241;43m40\u001b[39;49m\u001b[43m)\u001b[49m\n\u001b[0;32m      6\u001b[0m b\u001b[38;5;241m.\u001b[39mmean()\n",
      "Input \u001b[1;32mIn [10]\u001b[0m, in \u001b[0;36mMoreMathOperations.__init__\u001b[1;34m(self, firstNumber, secondNumber, thirdNumber, fourthNumber)\u001b[0m\n\u001b[0;32m     22\u001b[0m \u001b[38;5;28;01mdef\u001b[39;00m \u001b[38;5;21m__init__\u001b[39m(\u001b[38;5;28mself\u001b[39m, firstNumber, secondNumber, thirdNumber, fourthNumber):\n\u001b[1;32m---> 24\u001b[0m     \u001b[38;5;28;43msuper\u001b[39;49m\u001b[43m(\u001b[49m\u001b[43m)\u001b[49m\u001b[38;5;241;43m.\u001b[39;49m\u001b[38;5;21;43m__init__\u001b[39;49m\u001b[43m(\u001b[49m\u001b[38;5;28;43mself\u001b[39;49m\u001b[43m,\u001b[49m\u001b[43m \u001b[49m\u001b[43mfirstNumber\u001b[49m\u001b[43m,\u001b[49m\u001b[43m \u001b[49m\u001b[43msecondNumber\u001b[49m\u001b[43m)\u001b[49m\n\u001b[0;32m     25\u001b[0m     \u001b[38;5;28mself\u001b[39m\u001b[38;5;241m.\u001b[39mthirdNumber \u001b[38;5;241m=\u001b[39m thirdNumber\n\u001b[0;32m     26\u001b[0m     \u001b[38;5;28mself\u001b[39m\u001b[38;5;241m.\u001b[39mfourthNumber \u001b[38;5;241m=\u001b[39m fourthNumber\n",
      "\u001b[1;31mTypeError\u001b[0m: __init__() takes 3 positional arguments but 4 were given"
     ]
    }
   ],
   "source": [
    "a = MathOperations(10, 20)\n",
    "print(a.summation())\n",
    "print(a.multiplication())\n",
    "\n",
    "b = MoreMathOperations(10, 20, 30, 40)\n",
    "b.mean()\n",
    "\n"
   ]
  }
 ],
 "metadata": {
  "interpreter": {
   "hash": "c9b162c81217fba9ba3eb51ac1211b068674c77aacca938da1c2aabc35c123db"
  },
  "kernelspec": {
   "display_name": "Python 3.8.12 64-bit ('peterzorve': conda)",
   "language": "python",
   "name": "python3"
  },
  "language_info": {
   "codemirror_mode": {
    "name": "ipython",
    "version": 3
   },
   "file_extension": ".py",
   "mimetype": "text/x-python",
   "name": "python",
   "nbconvert_exporter": "python",
   "pygments_lexer": "ipython3",
   "version": "3.8.12"
  },
  "orig_nbformat": 4
 },
 "nbformat": 4,
 "nbformat_minor": 2
}
