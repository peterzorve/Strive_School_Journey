{
 "cells": [
  {
   "cell_type": "markdown",
   "metadata": {},
   "source": [
    "1. Pyramid Challenge:\n",
    "In this challenge you need to code a function that receives a number print out this pyramid:\n",
    "\n",
    "\n",
    "i. e. print_pyramid(5) outputs this:"
   ]
  },
  {
   "cell_type": "code",
   "execution_count": 14,
   "metadata": {},
   "outputs": [
    {
     "name": "stdout",
     "output_type": "stream",
     "text": [
      "                     *\n",
      "                    * *\n",
      "                   * * *\n",
      "                  * * * *\n",
      "                 * * * * *\n",
      "                * * * * * *\n",
      "               * * * * * * *\n",
      "              * * * * * * * *\n",
      "             * * * * * * * * *\n",
      "            * * * * * * * * * *\n",
      "           * * * * * * * * * * *\n",
      "          * * * * * * * * * * * *\n",
      "         * * * * * * * * * * * * *\n",
      "        * * * * * * * * * * * * * *\n",
      "       * * * * * * * * * * * * * * *\n",
      "      * * * * * * * * * * * * * * * *\n",
      "     * * * * * * * * * * * * * * * * *\n",
      "    * * * * * * * * * * * * * * * * * *\n",
      "   * * * * * * * * * * * * * * * * * * *\n",
      "  * * * * * * * * * * * * * * * * * * * *\n"
     ]
    }
   ],
   "source": [
    "# FIRST PYRAMID\n",
    "\n",
    "def pyramid(pyramidHeight):\n",
    "    number = 1\n",
    "\n",
    "    while number < (pyramidHeight + 1):\n",
    "        print(' ' * (pyramidHeight-number), ' *' * number)\n",
    "        number = number + 1\n",
    "    return\n",
    "\n",
    "pyramid(20)"
   ]
  }
 ],
 "metadata": {
  "interpreter": {
   "hash": "c9b162c81217fba9ba3eb51ac1211b068674c77aacca938da1c2aabc35c123db"
  },
  "kernelspec": {
   "display_name": "Python 3.8.12 64-bit ('peterzorve': conda)",
   "language": "python",
   "name": "python3"
  },
  "language_info": {
   "codemirror_mode": {
    "name": "ipython",
    "version": 3
   },
   "file_extension": ".py",
   "mimetype": "text/x-python",
   "name": "python",
   "nbconvert_exporter": "python",
   "pygments_lexer": "ipython3",
   "version": "3.8.12"
  },
  "orig_nbformat": 4
 },
 "nbformat": 4,
 "nbformat_minor": 2
}
