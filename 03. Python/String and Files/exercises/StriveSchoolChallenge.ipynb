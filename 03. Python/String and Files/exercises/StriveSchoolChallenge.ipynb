{
 "cells": [
  {
   "cell_type": "code",
   "execution_count": null,
   "metadata": {},
   "outputs": [],
   "source": []
  },
  {
   "cell_type": "markdown",
   "metadata": {},
   "source": [
    "3. Strive School Challenge:\n",
    "In this challenge you need to code a function that receives a list of numbers and returns:\n",
    "\n",
    "Strive if the number is divisible by 3\n",
    "School if the number is divisible by 5\n",
    "Strive School if the number is divisible by 3 and 5\n",
    "the number itself otherwise\n",
    "i. e. strive_school([1, 2, 3, 5, 15]) outputs [1, 2, Strive, School, Strive School]"
   ]
  },
  {
   "cell_type": "code",
   "execution_count": 5,
   "metadata": {},
   "outputs": [
    {
     "name": "stdout",
     "output_type": "stream",
     "text": [
      "100  School\n",
      "6  Strive\n",
      "15  Strive School\n",
      "20  School\n",
      "21  Strive\n",
      "30  Strive School\n"
     ]
    }
   ],
   "source": [
    "def striveSchool(myLists):\n",
    "\n",
    "    for myList in myLists:\n",
    "        if myList % 3 == 0 and myList % 5 != 0: \n",
    "            print(myList, ' Strive')\n",
    "        \n",
    "        elif myList % 3 != 0 and myList % 5 == 0:\n",
    "            print(myList, ' School')\n",
    "\n",
    "        elif myList % 3 == 0 and myList % 5 == 0:\n",
    "            print(myList, ' Strive School')\n",
    "    return \n",
    "\n",
    "theLists = [100, 2, 4, 6, 15, 20, 21, 30]\n",
    "striveSchool(theLists)\n"
   ]
  }
 ],
 "metadata": {
  "interpreter": {
   "hash": "c9b162c81217fba9ba3eb51ac1211b068674c77aacca938da1c2aabc35c123db"
  },
  "kernelspec": {
   "display_name": "Python 3.8.12 64-bit ('peterzorve': conda)",
   "language": "python",
   "name": "python3"
  },
  "language_info": {
   "codemirror_mode": {
    "name": "ipython",
    "version": 3
   },
   "file_extension": ".py",
   "mimetype": "text/x-python",
   "name": "python",
   "nbconvert_exporter": "python",
   "pygments_lexer": "ipython3",
   "version": "3.8.12"
  },
  "orig_nbformat": 4
 },
 "nbformat": 4,
 "nbformat_minor": 2
}
