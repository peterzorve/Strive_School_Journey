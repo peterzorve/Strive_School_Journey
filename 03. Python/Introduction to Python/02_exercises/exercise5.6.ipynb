"""
I know what to do but I do not know how to write them in codes. 
Assuming we are working with a number, say 13, 
I have to check for the following
3 % 2 != 0
4 % 2 != 0   and 4 % 3 != 0
5 % 2 != 0   and 5 % 3 != 0   and 5 % 4 != 0
6 % 2 != 0   and 6 % 3 != 0   and 6 % 4 != 0   and 6 % 5 != 0 
7 % 2 != 0   and 7 % 3 != 0   and 7 % 4 != 0   and 7 % 5 != 0   and 7 % 6 != 0
8 % 2 != 0   and 8 % 3 != 0   and 8 % 4 != 0   and 8 % 5 != 0   and 8 % 6 != 0    and 8 % 7 != 0
9 % 2 != 0   and 9 % 3 != 0   and 9 % 4 != 0   and 9 % 5 != 0   and 9 % 6 != 0    and 9 % 7 != 0  and  ...
10 % 2 != 0  and 10 % 3 != 0  and 10 % 4 != 0  and 10 % 5 != 0  and 10 % 6 != 0   and 10 % 7 != 0  and  ...
11 % 2 != 0  and 11 % 3 != 0  and 11 % 4 != 0  and 11 % 5 != 0  and 11 % 6 != 0   and 11 % 7 != 0  and  ...
12 % 2 != 0  and 12 % 3 != 0  and 12 % 4 != 0  and 12 % 5 != 0  and 12 % 6 != 0   and 12 % 7 != 0  and  ...

The numbers where all their corresponding statements are true are the prime numbers.

I tried to put them in codes but they arent working. 
My results rather gives me the numbers which are not prime numbers
"""

for i in range (3, 18, 1):
    for j in range(2, i-1, 1):
        if i % j != 0:
            print(i)
            break


        

