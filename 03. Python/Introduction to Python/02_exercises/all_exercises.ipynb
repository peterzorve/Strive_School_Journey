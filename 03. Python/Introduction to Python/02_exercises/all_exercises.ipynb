{
 "cells": [
  {
   "cell_type": "markdown",
   "metadata": {},
   "source": [
    "**Exercise 1.1:** The cover price of a book is 24.95 EUR, but bookstores get a 40 percent discount. Shipping costs 3 EUR for the first copy and 75 cents for each additional copy. **Calculate the total wholesale costs for 60 copies**. "
   ]
  },
  {
   "cell_type": "code",
   "execution_count": 3,
   "metadata": {},
   "outputs": [
    {
     "name": "stdout",
     "output_type": "stream",
     "text": [
      "The Total Whole Sale Price is : 945.45\n"
     ]
    }
   ],
   "source": [
    "#Your Code Here\n",
    "price = 24.95\n",
    "newPrice = 0.6*price\n",
    "totalItems = 60\n",
    "ship_1st = 3\n",
    "ship_remain = 0.75\n",
    "\n",
    "totalWhole = (totalItems * newPrice) + ship_1st + ((totalItems-1)*ship_remain)\n",
    "print('The Total Whole Sale Price is :', round(totalWhole, 2))"
   ]
  },
  {
   "cell_type": "markdown",
   "metadata": {},
   "source": [
    "**Exercise 1.2:** When something is wrong with your code, Python will raise errors. Often these will be \"syntax errors\" that signal that something is wrong with the form of your code (e.g., the code in the previous exercise raised a `SyntaxError`). There are also \"runtime errors\", which signal that your code was in itself formally correct, but that something went wrong during the code's execution. A good example is the `ZeroDivisionError`, which indicates that you tried to divide a number by zero (which, as you may know, is not allowed). Try to make Python **raise such a `ZeroDivisionError`.**"
   ]
  },
  {
   "cell_type": "code",
   "execution_count": 1,
   "metadata": {},
   "outputs": [
    {
     "ename": "ZeroDivisionError",
     "evalue": "division by zero",
     "output_type": "error",
     "traceback": [
      "\u001b[1;31m---------------------------------------------------------------------------\u001b[0m",
      "\u001b[1;31mZeroDivisionError\u001b[0m                         Traceback (most recent call last)",
      "Input \u001b[1;32mIn [1]\u001b[0m, in \u001b[0;36m<module>\u001b[1;34m\u001b[0m\n\u001b[0;32m      1\u001b[0m number1 \u001b[38;5;241m=\u001b[39m \u001b[38;5;241m10\u001b[39m\n\u001b[0;32m      2\u001b[0m number2 \u001b[38;5;241m=\u001b[39m \u001b[38;5;241m0\u001b[39m\n\u001b[1;32m----> 3\u001b[0m \u001b[38;5;28mprint\u001b[39m(\u001b[43mnumber1\u001b[49m\u001b[38;5;241;43m/\u001b[39;49m\u001b[43mnumber2\u001b[49m)\n",
      "\u001b[1;31mZeroDivisionError\u001b[0m: division by zero"
     ]
    }
   ],
   "source": [
    "number1 = 10\n",
    "number2 = 0\n",
    "print(number1/number2)"
   ]
  },
  {
   "cell_type": "markdown",
   "metadata": {},
   "source": [
    "**Exercise 5.1**: Create a countdown function that starts at a certain count, and counts down to zero. Instead of zero, print \"Blast off!\". Use a `for` loop. \n"
   ]
  },
  {
   "cell_type": "code",
   "execution_count": 2,
   "metadata": {},
   "outputs": [
    {
     "name": "stdout",
     "output_type": "stream",
     "text": [
      "15\n",
      "14\n",
      "13\n",
      "12\n",
      "11\n",
      "10\n",
      "9\n",
      "8\n",
      "7\n",
      "6\n",
      "5\n",
      "4\n",
      "3\n",
      "2\n",
      "1\n",
      "blast\n"
     ]
    }
   ],
   "source": [
    "# Countdown\n",
    "numbers = range(15, 0, -1)\n",
    "def countdown():\n",
    "    for number in numbers:\n",
    "        print(number)\n",
    "    print('blast')\n",
    "countdown()"
   ]
  },
  {
   "cell_type": "markdown",
   "metadata": {},
   "source": [
    "**Exercise 5.2:** Write and test three functions that return the largest, the smallest, and the number of dividables by 3 in a given collection of numbers. Use the algorithm described earlier in the Part 5 lecture :)"
   ]
  },
  {
   "cell_type": "code",
   "execution_count": 3,
   "metadata": {},
   "outputs": [
    {
     "name": "stdout",
     "output_type": "stream",
     "text": [
      "The Largest Number : 900 \n",
      "\n",
      "The Smallest Number : 3 \n",
      "\n",
      "3 is divisible by 3\n",
      "18 is divisible by 3\n",
      "12 is divisible by 3\n",
      "15 is divisible by 3\n",
      "900 is divisible by 3\n"
     ]
    }
   ],
   "source": [
    "# Your functions\n",
    "\n",
    "lists = [3, 100, 34, 18, 12, 14, 15, 900]\n",
    "def divisibleBy_3():\n",
    "    \n",
    "    largest = max(lists)\n",
    "    smallest = min(lists)\n",
    "    \n",
    "    print('The Largest Number :', largest, '\\n')\n",
    "    print('The Smallest Number :', smallest, '\\n')\n",
    "    \n",
    "    for list in lists:\n",
    "        largest = max(lists) \n",
    "        if list % 3 == 0:\n",
    "            print(list, 'is divisible by 3')\n",
    "    return\n",
    "\n",
    "divisibleBy_3()\n"
   ]
  },
  {
   "cell_type": "markdown",
   "metadata": {},
   "source": [
    "**Exercise 1.3 (🌶️):** You look at the clock and see that it is currently 14.00h. You set an alarm to go off 535 hours later. At what time will the alarm go off? Write a program that prints the answer. Hint: for the best solution, you will need the modulo operator. Second hint: The answer is 21.00h, but of course, this exercise is not about the answer, but about how you get it."
   ]
  },
  {
   "cell_type": "code",
   "execution_count": 4,
   "metadata": {},
   "outputs": [
    {
     "name": "stdout",
     "output_type": "stream",
     "text": [
      "The next time is at  21 : 00\n"
     ]
    }
   ],
   "source": [
    "#Your Code Here\n",
    "time_hour = 14\n",
    "hours = 535\n",
    "nextTime = (time_hour + hours) % 24\n",
    "print('The next time is at ', nextTime, ': 00')"
   ]
  },
  {
   "cell_type": "markdown",
   "metadata": {},
   "source": [
    "**Exercise 5.4 (🌶️):** \"99 bottles of beer\" is a traditional song in the United States and Canada. It is popular to sing on long trips, as it has a very repetitive format which is easy to memorize, and can take a long time to sing. The song's simple lyrics are as follows: \"99 bottles of beer on the wall, 99 bottles of beer. Take one down, pass it around, 98 bottles of beer on the wall.\" The same verse is repeated, each time with one fewer bottle. The song is completed when the singer or singers reach zero. Write a function that generates and prints all the verses of the song (though you might start a bit lower, for instance with 10 bottles). Make sure that your loop is not endless, and that you use the proper inflection for the word \"bottle\"."
   ]
  },
  {
   "cell_type": "code",
   "execution_count": 5,
   "metadata": {},
   "outputs": [
    {
     "name": "stdout",
     "output_type": "stream",
     "text": [
      "10 bottles of beer on the wall, 5 bottles of beer. Take one down, pass it around, 9 bottles of beer in the wall\n",
      "9 bottles of beer on the wall, 5 bottles of beer. Take one down, pass it around, 8 bottles of beer in the wall\n",
      "8 bottles of beer on the wall, 5 bottles of beer. Take one down, pass it around, 7 bottles of beer in the wall\n",
      "7 bottles of beer on the wall, 5 bottles of beer. Take one down, pass it around, 6 bottles of beer in the wall\n",
      "6 bottles of beer on the wall, 5 bottles of beer. Take one down, pass it around, 5 bottles of beer in the wall\n",
      "5 bottles of beer on the wall, 5 bottles of beer. Take one down, pass it around, 4 bottles of beer in the wall\n",
      "4 bottles of beer on the wall, 5 bottles of beer. Take one down, pass it around, 3 bottles of beer in the wall\n",
      "3 bottles of beer on the wall, 5 bottles of beer. Take one down, pass it around, 2 bottles of beer in the wall\n",
      "2 bottles of beer on the wall, 5 bottles of beer. Take one down, pass it around, 1 bottles of beer in the wall\n",
      "1 bottles of beer on the wall, 5 bottles of beer. Take one down, pass it around, 0 bottles of beer in the wall\n"
     ]
    }
   ],
   "source": [
    "def beerSong(bottles):\n",
    "    max = range(bottles, 0, -1)\n",
    "    for bottle in max:\n",
    "        print(bottle, 'bottles of beer on the wall, 5 bottles of beer. Take one down, pass it around,', (bottle-1), 'bottles of beer in the wall')\n",
    "    return\n",
    "\n",
    "beerSong(10)"
   ]
  },
  {
   "cell_type": "code",
   "execution_count": null,
   "metadata": {},
   "outputs": [],
   "source": []
  },
  {
   "cell_type": "markdown",
   "metadata": {},
   "source": [
    "**Exercise 5.5 (🌶️):** The Fibonacci sequence is a sequence of numbers that starts with 1, followed by 1 again. Every next number is the sum of the two previous numbers. I.e., the sequence starts with 1, 1, 2, 3, 5, 8, 13, 21,... Write a function that calculates and prints the Fibonacci sequence until the numbers get higher than a `maximum`."
   ]
  },
  {
   "cell_type": "code",
   "execution_count": 6,
   "metadata": {},
   "outputs": [
    {
     "name": "stdout",
     "output_type": "stream",
     "text": [
      "-------------------------- \n",
      " 1st :  2nd  : (1st + 2nd) \n",
      "------------------------\n",
      "0     1     1\n",
      "1     1     2\n",
      "1     2     3\n",
      "2     3     5\n",
      "3     5     8\n",
      "5     8     13\n",
      "8     13     21\n",
      "13     21     34\n",
      "21     34     55\n",
      "34     55     89\n",
      "55     89     144\n",
      "89     144     233\n"
     ]
    }
   ],
   "source": [
    "def fib(maximum):\n",
    "    firstDigit = 0\n",
    "    secondDigit = 1\n",
    "    increment = 0\n",
    "\n",
    "    if maximum < 0:\n",
    "        print('Enter a number greater than 0')\n",
    "    if maximum == 1:\n",
    "        print(0, 1, 1)\n",
    "    else:\n",
    "\n",
    "        print('-------------------------- \\n 1st :  2nd  : (1st + 2nd) \\n------------------------')\n",
    "        while increment < maximum:\n",
    "\n",
    "            thirdDigit = firstDigit + secondDigit\n",
    "\n",
    "            print(firstDigit, '   ', secondDigit, '   ', thirdDigit)\n",
    "\n",
    "            firstDigit = secondDigit\n",
    "            secondDigit = thirdDigit\n",
    "            increment = increment + thirdDigit\n",
    "    return\n",
    "\n",
    "fib(400)"
   ]
  },
  {
   "cell_type": "markdown",
   "metadata": {},
   "source": [
    "**Exercise 5.8 (🌶️):** A, B, C, and D are all different digits. The number DCBA is equal to 4 times the number ABCD. What are the digits? Note: to make ABCD and DCBA conventional numbers, neither A nor D can be zero. Use a quadruple-nested loop."
   ]
  },
  {
   "cell_type": "code",
   "execution_count": 7,
   "metadata": {},
   "outputs": [
    {
     "name": "stdout",
     "output_type": "stream",
     "text": [
      "A =  2\n",
      "B =  1\n",
      "C =  7\n",
      "C =  8\n"
     ]
    }
   ],
   "source": [
    "number = [1, 2, 3, 4, 5, 6, 7, 8, 9]\n",
    "\n",
    "def nested_nest():\n",
    "    for A in number:\n",
    "        for B in number:\n",
    "            for C in number:\n",
    "                for D in number:\n",
    "                    if (D*(1000) + C*(100) + B*(10) + A) == 4* ((A*(1000)+(B*(100))+(C*(10))+D)):\n",
    "                        print('A = ', A)\n",
    "                        print('B = ', B)\n",
    "                        print('C = ', C)\n",
    "                        print('C = ', D)\n",
    "    return\n",
    "\n",
    "nested_nest()"
   ]
  },
  {
   "cell_type": "markdown",
   "metadata": {},
   "source": [
    "**Exercise 4.1 (🌶️🌶️):** Define a function that receives a string parameter, and returns an integer indicating the count for all the letters of the alphabet that there are in the string. The expected output format is in a **dictionary** with the relevant keys and values. The capital version of a lower case letter is considered to be the same letter.\n",
    "\n",
    "This should sound quite familiar, try to do it without looking at your old code ;)\n",
    "\n",
    "**What is the challenge?**: Don't code 27 times the same line of code, learn how to do things that scale well."
   ]
  },
  {
   "cell_type": "code",
   "execution_count": 9,
   "metadata": {},
   "outputs": [
    {
     "name": "stdout",
     "output_type": "stream",
     "text": [
      "{'i': 6, ' ': 9, 'a': 2, 'm': 4, 'g': 5, 'o': 6, 'n': 7, 't': 2, 'h': 1, 'e': 1, 'f': 1, 'r': 4, 'd': 1, 'y': 1}\n"
     ]
    }
   ],
   "source": [
    "\n",
    "def countLetter(myString):\n",
    "\n",
    "    initialDictionary = {}\n",
    "\n",
    "    for letter in myString:\n",
    "        if letter not in initialDictionary:\n",
    "            initialDictionary[letter] = 1\n",
    "\n",
    "        else:\n",
    "            initialDictionary[letter] =  initialDictionary[letter] + 1\n",
    "        \n",
    "    print(initialDictionary)\n",
    "\n",
    "    return\n",
    "\n",
    "    \n",
    "myString = 'I am going to the on Friday morning morning moring'.lower()\n",
    "\n",
    "countLetter(myString)\n",
    "\n"
   ]
  },
  {
   "cell_type": "markdown",
   "metadata": {},
   "source": [
    "**Exercise 5.6 (🌶️🌶️):** A prime number is a positive integer that is dividable by exactly two different numbers, namely 1 and itself. The lowest (and only even) prime number is 2. The first 10 prime numbers are 2, 3, 5, 7, 11, 13, 17, 19, 23, and 29. Write a function that returns a **list off all prime numbers** below a given number.\n",
    "\n",
    "Hint: In a loop where you test the possible dividers of the number, you can conclude that the number is not prime as soon as you encounter a number other than 1 or the number itself that divides it. However, you can *only* conclude that it actually *is* prime after you have tested all possible dividers.\n",
    "\n",
    "**What is the challenge here? You have to try to optimize your code and try to make it work for the highest prime number you can encounter before you run out of memory. For low numbers you should know how to do it already**"
   ]
  },
  {
   "cell_type": "code",
   "execution_count": 8,
   "metadata": {},
   "outputs": [
    {
     "ename": "NameError",
     "evalue": "name 'check' is not defined",
     "output_type": "error",
     "traceback": [
      "\u001b[1;31m---------------------------------------------------------------------------\u001b[0m",
      "\u001b[1;31mNameError\u001b[0m                                 Traceback (most recent call last)",
      "Input \u001b[1;32mIn [8]\u001b[0m, in \u001b[0;36m<module>\u001b[1;34m\u001b[0m\n\u001b[0;32m     11\u001b[0m         check \u001b[38;5;241m=\u001b[39m \u001b[38;5;124m'\u001b[39m\u001b[38;5;124mnot prime\u001b[39m\u001b[38;5;124m'\u001b[39m\n\u001b[0;32m     12\u001b[0m         \u001b[38;5;28;01mbreak\u001b[39;00m\n\u001b[1;32m---> 13\u001b[0m \u001b[38;5;28mprint\u001b[39m(\u001b[43mcheck\u001b[49m)\n",
      "\u001b[1;31mNameError\u001b[0m: name 'check' is not defined"
     ]
    }
   ],
   "source": [
    "\n",
    "theNumber = 11\n",
    "\n",
    "if theNumber <= 1 :\n",
    "    print('Enter a positive integer greater than 1. ')\n",
    "elif theNumber == 2:\n",
    "    print('2 is the smallest prime number! ')\n",
    "\n",
    "elif theNumber >= 3:\n",
    "    for number in range(2, theNumber-1, 1):\n",
    "        if  (theNumber % number) == 0:\n",
    "            check = 'not prime'\n",
    "            break\n",
    "    print(check)\n",
    "    "
   ]
  },
  {
   "cell_type": "markdown",
   "metadata": {},
   "source": [
    "**Exercise 5.7 (🌶️🌶️):** Write a function that prints all integers between the parameters `a` and `b` that can be written as the sum of two squares. Produce output in the form of `z = x**2 + y**2`, e.g., `58 = 3**2 + 7**2`. If a number occurs on the list with multiple *different* ways of writing it as the sum of two squares, that is acceptable. "
   ]
  },
  {
   "cell_type": "code",
   "execution_count": 9,
   "metadata": {},
   "outputs": [
    {
     "name": "stdout",
     "output_type": "stream",
     "text": [
      "18   =   3 **2  +  3 **2\n",
      "25   =   3 **2  +  4 **2\n",
      "34   =   3 **2  +  5 **2\n",
      "45   =   3 **2  +  6 **2\n",
      "58   =   3 **2  +  7 **2\n",
      "25   =   4 **2  +  3 **2\n",
      "32   =   4 **2  +  4 **2\n",
      "41   =   4 **2  +  5 **2\n",
      "52   =   4 **2  +  6 **2\n",
      "34   =   5 **2  +  3 **2\n",
      "41   =   5 **2  +  4 **2\n",
      "50   =   5 **2  +  5 **2\n",
      "45   =   6 **2  +  3 **2\n",
      "52   =   6 **2  +  4 **2\n",
      "58   =   7 **2  +  3 **2\n"
     ]
    }
   ],
   "source": [
    "#Your Code Here\n",
    "\n",
    "def square(firstRange, secondRange):\n",
    "\n",
    "    interval = range(firstRange, secondRange+1, 1)\n",
    "\n",
    "    for x in interval:\n",
    "        for y in interval:\n",
    "            c = (x**2) + (y**2)\n",
    "            if c <= secondRange:\n",
    "                print(c, '  =  ', x,'**2  + ', y,'**2')\n",
    "    return\n",
    "\n",
    "square(3, 60)"
   ]
  },
  {
   "cell_type": "markdown",
   "metadata": {},
   "source": [
    "**Exercise 6.2:** Print a line of all the capital letters \"A\" to \"Z\". Below it, print a line of the letters that are 13 positions in the alphabet away from the letters that are above them. E.g., below the \"A\" you print an \"N\", below the \"B\" you print an \"O\", etcetera. You have to consider the alphabet to be circular, i.e., after the \"Z\", it loops back to the \"A\" again."
   ]
  },
  {
   "cell_type": "code",
   "execution_count": null,
   "metadata": {},
   "outputs": [],
   "source": [
    "# ROTR-13\n",
    "letters = \"ABCDEFGHIJKLMNOPQRSTUVWXYZ\"\n",
    "newLetters = \"ABCDEFGHIJKLMNOPQRSTUVWXYZ\" * 26\n",
    "\n",
    "number = 0\n",
    "begin = 0\n",
    "end = 13\n",
    "\n",
    "\n",
    "while number < 26:\n",
    "    print('Begins with', newLetters[begin] , 'and ends with', newLetters[end-1], '     (', newLetters[begin:end], ')')\n",
    "    \n",
    "    begin = begin + 1\n",
    "    end = end + 1\n",
    "    number = number + 1\n",
    "\n"
   ]
  },
  {
   "cell_type": "markdown",
   "metadata": {},
   "source": [
    "**Exercise 6.3:** In the text below, count how often the word \"wood\" occurs (using program code, of course). Capitals and lower case letters may both be used, and you have to consider that the word \"wood\" should be a separate word, and not part of another word. Hint: If you did the exercises from this chapter, you already developed a function that \"cleans\" a text. Combining that function with the `split()` function more or less solves the problem for you."
   ]
  },
  {
   "cell_type": "code",
   "execution_count": 10,
   "metadata": {},
   "outputs": [
    {
     "name": "stdout",
     "output_type": "stream",
     "text": [
      "The count of the \"wood\" is : 3\n"
     ]
    }
   ],
   "source": [
    "text = \"\"\"How much wood would a woodchuck chuck\n",
    "If a woodchuck could chuck wood?\n",
    "He would chuck, he would, as much as he could,\n",
    "And chuck as much as a woodchuck would\n",
    "If a Mr. Smith could chuck wood\\n\\r\\t.\"\"\"\n",
    "\n",
    "words = text.split()\n",
    "count = 0\n",
    "\n",
    "for word in words:\n",
    "    word = word.lower()\n",
    "    word = word.strip()\n",
    "    word = word.strip(',')\n",
    "    word = word.strip('?')\n",
    "\n",
    "    if word == 'wood':\n",
    "        count = count + 1\n",
    "\n",
    "print('The count of the \"wood\" is :', count)"
   ]
  },
  {
   "cell_type": "markdown",
   "metadata": {},
   "source": [
    "If you just want to traverse the individual characters of a string, the first method, using `for <character> in <string>:`, is by far the most elegant and readable. However, occasionally you have to solve problems in which you might prefer one of the other methods.\n",
    "\n",
    "**Exercise (optional)**: Write code that for a string prints the indices of all of its vowels (`a`, `e`, `i`, `o`, and `u`). This can be done with a `for` loop or a `while` loop."
   ]
  },
  {
   "cell_type": "code",
   "execution_count": 10,
   "metadata": {},
   "outputs": [
    {
     "name": "stdout",
     "output_type": "stream",
     "text": [
      "1 a\n",
      "2 e\n",
      "3 i\n",
      "4 o\n",
      "5 u\n"
     ]
    }
   ],
   "source": [
    "# Indices of vowels\n",
    "vomels = 'aeiou'\n",
    "\n",
    "def index_vowels(text):\n",
    "    for character in text:\n",
    "        position = (text.find(character)) + 1\n",
    "        print(position, character)\n",
    "\n",
    "    return\n",
    "\n",
    "index_vowels(vomels)"
   ]
  },
  {
   "cell_type": "markdown",
   "metadata": {},
   "source": [
    "**Exercise (optional)**: Write code that uses two strings. For each character in the first string that has exactly the same character at the same index in the second string, you print the character and the index. Watch out that you do not get an \"index out of bounds\" runtime error."
   ]
  },
  {
   "cell_type": "code",
   "execution_count": 11,
   "metadata": {},
   "outputs": [
    {
     "name": "stdout",
     "output_type": "stream",
     "text": [
      "g in position 1\n",
      "y in position 13\n",
      "s in position 17\n"
     ]
    }
   ],
   "source": [
    "string1 = 'gpeterezorvey was nice'\n",
    "string2 = 'gzorveepeteryt is a man'\n",
    "\n",
    "\n",
    "def similar_char(text1, text2):\n",
    "    for character1 in text1:\n",
    "        position1 = text1.find(character1)\n",
    "\n",
    "        if text2[position1] == character1:\n",
    "            position2 = position1 + 1\n",
    "            print(character1, 'in position', position2)\n",
    "\n",
    "    return\n",
    "\n",
    "        \n",
    "similar_char(string1, string2)\n"
   ]
  },
  {
   "cell_type": "markdown",
   "metadata": {},
   "source": [
    "**Exercise 6.2:** Print a line of all the capital letters \"A\" to \"Z\". Below it, print a line of the letters that are 13 positions in the alphabet away from the letters that are above them. E.g., below the \"A\" you print an \"N\", below the \"B\" you print an \"O\", etcetera. You have to consider the alphabet to be circular, i.e., after the \"Z\", it loops back to the \"A\" again."
   ]
  },
  {
   "cell_type": "code",
   "execution_count": 12,
   "metadata": {},
   "outputs": [
    {
     "name": "stdout",
     "output_type": "stream",
     "text": [
      "Begins with A and ends with M      ( ABCDEFGHIJKLM )\n",
      "Begins with B and ends with N      ( BCDEFGHIJKLMN )\n",
      "Begins with C and ends with O      ( CDEFGHIJKLMNO )\n",
      "Begins with D and ends with P      ( DEFGHIJKLMNOP )\n",
      "Begins with E and ends with Q      ( EFGHIJKLMNOPQ )\n",
      "Begins with F and ends with R      ( FGHIJKLMNOPQR )\n",
      "Begins with G and ends with S      ( GHIJKLMNOPQRS )\n",
      "Begins with H and ends with T      ( HIJKLMNOPQRST )\n",
      "Begins with I and ends with U      ( IJKLMNOPQRSTU )\n",
      "Begins with J and ends with V      ( JKLMNOPQRSTUV )\n",
      "Begins with K and ends with W      ( KLMNOPQRSTUVW )\n",
      "Begins with L and ends with X      ( LMNOPQRSTUVWX )\n",
      "Begins with M and ends with Y      ( MNOPQRSTUVWXY )\n",
      "Begins with N and ends with Z      ( NOPQRSTUVWXYZ )\n",
      "Begins with O and ends with A      ( OPQRSTUVWXYZA )\n",
      "Begins with P and ends with B      ( PQRSTUVWXYZAB )\n",
      "Begins with Q and ends with C      ( QRSTUVWXYZABC )\n",
      "Begins with R and ends with D      ( RSTUVWXYZABCD )\n",
      "Begins with S and ends with E      ( STUVWXYZABCDE )\n",
      "Begins with T and ends with F      ( TUVWXYZABCDEF )\n",
      "Begins with U and ends with G      ( UVWXYZABCDEFG )\n",
      "Begins with V and ends with H      ( VWXYZABCDEFGH )\n",
      "Begins with W and ends with I      ( WXYZABCDEFGHI )\n",
      "Begins with X and ends with J      ( XYZABCDEFGHIJ )\n",
      "Begins with Y and ends with K      ( YZABCDEFGHIJK )\n",
      "Begins with Z and ends with L      ( ZABCDEFGHIJKL )\n"
     ]
    }
   ],
   "source": [
    "# ROTR-13\n",
    "letters = \"ABCDEFGHIJKLMNOPQRSTUVWXYZ\"\n",
    "newLetters = \"ABCDEFGHIJKLMNOPQRSTUVWXYZ\" * 26\n",
    "\n",
    "number = 0\n",
    "begin = 0\n",
    "end = 13\n",
    "\n",
    "\n",
    "while number < 26:\n",
    "    print('Begins with', newLetters[begin] , 'and ends with', newLetters[end-1], '     (', newLetters[begin:end], ')')\n",
    "    \n",
    "    begin = begin + 1\n",
    "    end = end + 1\n",
    "    number = number + 1\n",
    "\n"
   ]
  },
  {
   "cell_type": "markdown",
   "metadata": {},
   "source": [
    "**Exercise 6.3:** In the text below, count how often the word \"wood\" occurs (using program code, of course). Capitals and lower case letters may both be used, and you have to consider that the word \"wood\" should be a separate word, and not part of another word. Hint: If you did the exercises from this chapter, you already developed a function that \"cleans\" a text. Combining that function with the `split()` function more or less solves the problem for you."
   ]
  },
  {
   "cell_type": "code",
   "execution_count": 15,
   "metadata": {},
   "outputs": [
    {
     "name": "stdout",
     "output_type": "stream",
     "text": [
      "The count of the \"wood\" is : 3\n"
     ]
    }
   ],
   "source": [
    "text = \"\"\"How much wood would a woodchuck chuck\n",
    "If a woodchuck could chuck wood?\n",
    "He would chuck, he would, as much as he could,\n",
    "And chuck as much as a woodchuck would\n",
    "If a Mr. Smith could chuck wood\\n\\r\\t.\"\"\"\n",
    "\n",
    "words = text.split()\n",
    "count = 0\n",
    "\n",
    "for word in words:\n",
    "    word = word.lower()\n",
    "    word = word.strip()\n",
    "    word = word.strip(',')\n",
    "    word = word.strip('?')\n",
    "\n",
    "    if word == 'wood':\n",
    "        count = count + 1\n",
    "\n",
    "print('The count of the \"wood\" is :', count)\n"
   ]
  },
  {
   "cell_type": "markdown",
   "metadata": {},
   "source": [
    "**Exercise 2.2 (optional):** Write code that classifies a given amount of money (which you store in a variable `amount`), specified in cents, as greater monetary units. Your code lists the monetary equivalent in dollars (100 ct), quarters (25 ct), dimes (10 ct), nickels (5 ct), and pennies (1 ct). Your program should report the maximum number of dollars that fit in the amount, then the maximum number of quarters that fit in the remainder after you subtract the dollars, then the maximum number of dimes that fit in the remainder after you subtract the dollars and quarters, and so on for nickels and pennies. The result is that you express the amount as the minimum number of coins needed.  \n",
    "\n",
    "**Can you do it again? Would you change anything from the last time you had to do this?**"
   ]
  },
  {
   "cell_type": "code",
   "execution_count": 17,
   "metadata": {},
   "outputs": [
    {
     "name": "stdout",
     "output_type": "stream",
     "text": [
      "19.78  Dollars =  19 dollars,  3 cents,  0 nickels,  0 dimes, and  3 pennies\n"
     ]
    }
   ],
   "source": [
    "# Your Code Here\n",
    "def currencyCheck(amount):\n",
    "    amountInDollars = amount * 100\n",
    "    dollar = 100\n",
    "    quarter = 25\n",
    "    dime = 10\n",
    "    nickel = 5\n",
    "    penny = 1\n",
    "\n",
    "    inDollars = amountInDollars // dollar\n",
    "    inDollarsRemains = amountInDollars % dollar\n",
    "\n",
    "    inCents = inDollarsRemains // quarter\n",
    "    inCentsRemains = inDollarsRemains % quarter\n",
    "\n",
    "    inDime = inCentsRemains // dime\n",
    "    inDimeRemains = inCentsRemains % dime\n",
    "\n",
    "    inNickel = inDimeRemains // nickel\n",
    "    inNickelRemains = inDimeRemains % nickel\n",
    "\n",
    "    print(amount, ' Dollars = ', int(inDollars), 'dollars, ', int(inCents), 'cents, ', int(inNickel), 'nickels, ', int(inDime), 'dimes, and ', int(inNickelRemains), 'pennies')\n",
    "    return\n",
    "\n",
    "currencyCheck(19.78)"
   ]
  },
  {
   "cell_type": "markdown",
   "metadata": {},
   "source": [
    "**Exercise (optional)**: The factorial of a positive integer is that integer, multiplied by all positive integers that are lower (excluding zero). You write the factorial as the number with an exclamation mark after it. E.g., the factorial of 5 is `5! = 5 * 4 * 3 * 2 * 1 = 120`. Write a function that calculates the factorial of its (integer) parameter. Test your function for different parameter values, but do not use very large numbers as factorials grow exponentially. Hint: to do this with a `while` loop, you need at least one more variable."
   ]
  },
  {
   "cell_type": "code",
   "execution_count": 18,
   "metadata": {},
   "outputs": [
    {
     "name": "stdout",
     "output_type": "stream",
     "text": [
      "The factorial of 6 = 720\n"
     ]
    }
   ],
   "source": [
    "def factorial(number):\n",
    "\n",
    "    numbersRange = range(number, 0, -1)\n",
    "    firstNumber = 1\n",
    "    \n",
    "    for numbers in numbersRange:\n",
    "        #print(number)\n",
    "        product = firstNumber * numbers\n",
    "        firstNumber = product\n",
    "    print( 'The factorial of', number, '=', product)\n",
    "\n",
    "    return\n",
    "\n",
    "factorial(6)"
   ]
  },
  {
   "cell_type": "markdown",
   "metadata": {},
   "source": [
    "**Exercise 5.1 (optional):** Write a function that prints a multiplication table for digits 1 to 10. A multiplication table for the numbers 1 to `num = 3` looks as follows:\n",
    "\n",
    "`. |  1  2  3`<br>\n",
    "`------------`<br>\n",
    "`1 |  1  2  3`<br>\n",
    "`2 |  2  4  6`<br>\n",
    "`3 |  3  6  9`\n",
    "\n",
    "So the labels on the rows are multiplied by the labels on the columns, and the result is shown in the cell that is on that row/column combination. "
   ]
  },
  {
   "cell_type": "code",
   "execution_count": 19,
   "metadata": {},
   "outputs": [
    {
     "name": "stdout",
     "output_type": "stream",
     "text": [
      " . |  1   2   3 \n",
      "----------------------\n",
      "1  |  1 2 3\n",
      "2  |  2 4 6\n",
      "3  |  3 6 9\n",
      "4  |  4 8 12\n",
      "5  |  5 10 15\n",
      "6  |  6 12 18\n",
      "7  |  7 14 21\n",
      "8  |  8 16 24\n",
      "9  |  9 18 27\n",
      "10  |  10 20 30\n"
     ]
    }
   ],
   "source": [
    "def print_multiplication_table(limit):\n",
    "\n",
    "    tableLengths = range(1, limit + 1, 1)\n",
    "    print(' . |  1   2   3 \\n----------------------' )\n",
    "\n",
    "    for tableLength in tableLengths:\n",
    "        print(tableLength, ' | ', tableLength, tableLength * 2, tableLength * 3)\n",
    "\n",
    "    return \n",
    "\n",
    "print_multiplication_table(10)"
   ]
  },
  {
   "cell_type": "markdown",
   "metadata": {},
   "source": [
    "**Exercise 6.5 (optional):** Typical autocorrect functions are the following: \n",
    "1. if a word starts with two capitals, followed by a lower-case letter, the second capital is made lower case; \n",
    "2. if a sentence contains a word that is immediately followed by the same word, the second occurrence is removed; \n",
    "3. if a sentence starts with a lower-case letter, that letter is turned into a capital; \n",
    "4. if a word consists entirely of capitals, except for the first letter which is lower case, then the case of the letters in the word is reversed; and \n",
    "5. if the sentence contains the name of a day (in English) which does not start with a capital, the first letter is turned into a capital. \n",
    "\n",
    "Write a program that takes a sentence and makes these auto-corrections."
   ]
  },
  {
   "cell_type": "code",
   "execution_count": 20,
   "metadata": {},
   "outputs": [
    {
     "name": "stdout",
     "output_type": "stream",
     "text": [
      "Peter\n",
      "Peter is a boy\n"
     ]
    }
   ],
   "source": [
    "\n",
    "def autocorrect(word, sentence):\n",
    "\n",
    "    word = word.capitalize()\n",
    "    sentenceList = sentence.split()\n",
    "\n",
    "\n",
    "    print(word)\n",
    "    if sentenceList[0] == sentenceList[1]:\n",
    "        sentenceList.remove(sentenceList[1])\n",
    "\n",
    "        sentenceList = ' '.join(sentenceList)\n",
    "    print(sentenceList.capitalize())\n",
    "\n",
    "    return\n",
    "\n",
    "\n",
    "word = 'peter'\n",
    "sentence = 'peter peter is a boy'\n",
    "autocorrect(word, sentence)"
   ]
  },
  {
   "cell_type": "markdown",
   "metadata": {},
   "source": [
    "Once the program is finished and debugged, I can remove the references to `count` and change the loop to `while True`, to process the whole file.\n",
    "\n",
    "**Exercise**: Start by copying the code above in the code block below. Then adapt it to count how often the word \"from\" (with any capitalization) occurs in the text as a whole. Print only the number of occurrences of that word. If you do it correctly, you find the answer is 14 (it occurs 3 times in the first 20 lines)."
   ]
  },
  {
   "cell_type": "code",
   "execution_count": null,
   "metadata": {},
   "outputs": [],
   "source": [
    "\n",
    "def display_contents_file4(document):\n",
    "    \n",
    "    countWords = open('Shakespeare.txt')\n",
    "    document = countWords.readlines()\n",
    "    count = 0\n",
    "\n",
    "    for lines in document:\n",
    "        lines = lines.strip()\n",
    "        lines = lines.split()\n",
    "\n",
    "        for words in lines:      \n",
    "            words = words.strip()\n",
    "\n",
    "            if words.startswith('from'):\n",
    "                count = count + 1\n",
    "\n",
    "    print('From appeared', count, 'times')\n",
    "\n",
    "    return count\n"
   ]
  }
 ],
 "metadata": {
  "interpreter": {
   "hash": "c9b162c81217fba9ba3eb51ac1211b068674c77aacca938da1c2aabc35c123db"
  },
  "kernelspec": {
   "display_name": "Python 3.8.12 64-bit ('peterzorve': conda)",
   "language": "python",
   "name": "python3"
  },
  "language_info": {
   "codemirror_mode": {
    "name": "ipython",
    "version": 3
   },
   "file_extension": ".py",
   "mimetype": "text/x-python",
   "name": "python",
   "nbconvert_exporter": "python",
   "pygments_lexer": "ipython3",
   "version": "3.8.12"
  },
  "orig_nbformat": 4
 },
 "nbformat": 4,
 "nbformat_minor": 2
}
