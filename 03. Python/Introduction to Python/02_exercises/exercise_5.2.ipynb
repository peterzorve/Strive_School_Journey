{
 "cells": [
  {
   "cell_type": "markdown",
   "metadata": {},
   "source": [
    "**Exercise 5.2:** Write and test three functions that return the largest, the smallest, and the number of dividables by 3 in a given collection of numbers. Use the algorithm described earlier in the Part 5 lecture :)"
   ]
  },
  {
   "cell_type": "code",
   "execution_count": 1,
   "metadata": {},
   "outputs": [
    {
     "name": "stdout",
     "output_type": "stream",
     "text": [
      "The Largest Number : 900 \n",
      "\n",
      "The Smallest Number : 3 \n",
      "\n",
      "3 is divisible by 3\n",
      "18 is divisible by 3\n",
      "12 is divisible by 3\n",
      "15 is divisible by 3\n",
      "900 is divisible by 3\n"
     ]
    }
   ],
   "source": [
    "# Your functions\n",
    "\n",
    "lists = [3, 100, 34, 18, 12, 14, 15, 900]\n",
    "def divisibleBy_3():\n",
    "    \n",
    "    largest = max(lists)\n",
    "    smallest = min(lists)\n",
    "    \n",
    "    print('The Largest Number :', largest, '\\n')\n",
    "    print('The Smallest Number :', smallest, '\\n')\n",
    "    \n",
    "    for list in lists:\n",
    "        largest = max(lists) \n",
    "        if list % 3 == 0:\n",
    "            print(list, 'is divisible by 3')\n",
    "    return\n",
    "\n",
    "divisibleBy_3()"
   ]
  }
 ],
 "metadata": {
  "interpreter": {
   "hash": "c9b162c81217fba9ba3eb51ac1211b068674c77aacca938da1c2aabc35c123db"
  },
  "kernelspec": {
   "display_name": "Python 3.8.12 64-bit ('peterzorve': conda)",
   "language": "python",
   "name": "python3"
  },
  "language_info": {
   "codemirror_mode": {
    "name": "ipython",
    "version": 3
   },
   "file_extension": ".py",
   "mimetype": "text/x-python",
   "name": "python",
   "nbconvert_exporter": "python",
   "pygments_lexer": "ipython3",
   "version": "3.8.12"
  },
  "orig_nbformat": 4
 },
 "nbformat": 4,
 "nbformat_minor": 2
}
