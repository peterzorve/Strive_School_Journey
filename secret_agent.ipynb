{
 "cells": [
  {
   "cell_type": "code",
   "execution_count": null,
   "metadata": {},
   "outputs": [],
   "source": []
  },
  {
   "cell_type": "markdown",
   "metadata": {},
   "source": [
    "Rules:\n",
    "\n",
    "A Secret Agent is the person that has information about all the other people, but no one has information about the Secret Agent.\n",
    "\n",
    "So, in the previous example Felix has information about all the others, but no one has information about Felix -> Felix is the Secret Agent.\n",
    "\n",
    "You have to return:\n",
    "\n",
    "the Secret Agent (if any): [[felix, lara], [felix, jeno], [lara, jeno]] -> returns felix | [[felix, lara], [lara, jeno], [lara, felix]] -> returns lara\n",
    "0 if there isn't a Secret Agent ([[felix, lara], [lara, jeno], [jeno, felix]] -> returns 0) \n",
    "if the number of the people is less or equals to 0, or the length of the list is grater than the number of the people or if the length of the pair is not 2 -> returns -1"
   ]
  }
 ],
 "metadata": {
  "language_info": {
   "name": "python"
  },
  "orig_nbformat": 4
 },
 "nbformat": 4,
 "nbformat_minor": 2
}
