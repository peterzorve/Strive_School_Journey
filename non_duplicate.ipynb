{
 "cells": [
  {
   "cell_type": "code",
   "execution_count": null,
   "metadata": {},
   "outputs": [],
   "source": []
  },
  {
   "cell_type": "markdown",
   "metadata": {},
   "source": [
    "4. Non Duplicated Challenge:\n",
    "In this challenge you need to code a function that receives a list of numbers and returns the non-duplicated number:\n",
    "\n",
    " \n",
    "\n",
    "i. e. function_whatever([1, 1, 2, 2, 3, 5, 5, 6, 6]) outputs 3\n",
    "\n",
    "i. e. function_whatever([1, 2, 2, 3, 3]) outputs 1"
   ]
  },
  {
   "cell_type": "code",
   "execution_count": 27,
   "metadata": {},
   "outputs": [
    {
     "name": "stdout",
     "output_type": "stream",
     "text": [
      "0 is not repeated\n"
     ]
    }
   ],
   "source": [
    "def noDuplicate(aLists):\n",
    "    \n",
    "    aLists = [0, 1, 2, 2, 1, 10, 10, 10]\n",
    "    emptyDict = {}\n",
    "    counter = 1\n",
    "\n",
    "    for aList in aLists:\n",
    "        if aList not in emptyDict:\n",
    "            emptyDict[aList] = 1\n",
    "        else: \n",
    "            emptyDict[aList] = counter + 1\n",
    "\n",
    "    for key, value in emptyDict.items():\n",
    "        if value == 1:\n",
    "            print(key, 'is not repeated')\n",
    "    \n",
    "    return\n",
    "\n",
    "aLists = [0, 1, 2, 2, 1, 10, 10, 10]\n",
    "noDuplicate(aLists)\n",
    "\n"
   ]
  }
 ],
 "metadata": {
  "interpreter": {
   "hash": "c9b162c81217fba9ba3eb51ac1211b068674c77aacca938da1c2aabc35c123db"
  },
  "kernelspec": {
   "display_name": "Python 3.8.12 64-bit ('peterzorve': conda)",
   "language": "python",
   "name": "python3"
  },
  "language_info": {
   "codemirror_mode": {
    "name": "ipython",
    "version": 3
   },
   "file_extension": ".py",
   "mimetype": "text/x-python",
   "name": "python",
   "nbconvert_exporter": "python",
   "pygments_lexer": "ipython3",
   "version": "3.8.12"
  },
  "orig_nbformat": 4
 },
 "nbformat": 4,
 "nbformat_minor": 2
}
